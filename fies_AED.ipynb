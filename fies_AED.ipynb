{
 "cells": [
  {
   "cell_type": "markdown",
   "metadata": {},
   "source": [
    "# Análise de dados - FIES\n",
    "*by: Alexandre Rodrigues* "
   ]
  },
  {
   "cell_type": "markdown",
   "metadata": {},
   "source": [
    "O [Fundo de Financiamento Estudantil (FIES)](https://sisfiesportal.mec.gov.br/) é um projeto criado pelo governo federal em meados de 1999 como um programa vinculado ao Ministério da Educação (MEC). \n",
    "\n",
    "O intuito do programa é viabilizar o ingresso ao ensino superior através do financiamento da graduação para os estudantes que não tem condições de pagar as mensalidades de faculdades privadas.\n",
    "\n",
    "Como se trata de um programa que fornece um financiamento estudantil, ao final do curso, o estudante que obteve o benefício deve pagar a dívida.\n",
    "\n",
    "<center><img alt=\"Analisando FIES\" width=\"50%\" src=\"fies.png\"></center>"
   ]
  },
  {
   "cell_type": "markdown",
   "metadata": {},
   "source": [
    "## Análise Exploratória de Dados (AED)"
   ]
  },
  {
   "cell_type": "markdown",
   "metadata": {},
   "source": [
    "`1. Data Source:` Destinada ao carregamento dos dados e carregamento das bibliotecas que serão utilizadas.\n",
    "\n",
    "`2. Data Cleaning:` Aqui será realizado o tratamento dos dados, verificação de outlier, dados nulos, corrigindo formatos, etc.\n",
    "\n",
    "`3. Análise de dados demográficos: ` Análise dos dados demográficos com intuito de entender o perfil de quem solicita o financiamento estudantil(FIES).\n",
    "\n",
    "`4. Conclusão: `"
   ]
  },
  {
   "cell_type": "markdown",
   "metadata": {},
   "source": [
    "## Fonte dos dados\n",
    "http://dadosabertos.mec.gov.br/fies/item/148-2021-relatorio-fies-inscricoes-2-2021"
   ]
  },
  {
   "cell_type": "markdown",
   "metadata": {},
   "source": [
    "# Data Source"
   ]
  },
  {
   "cell_type": "code",
   "execution_count": 166,
   "metadata": {},
   "outputs": [],
   "source": [
    "#carregando as bibliotecas\n",
    "import pandas as pd\n",
    "import numpy as np\n",
    "\n",
    "import matplotlib.pyplot as plt\n",
    "import seaborn as sns\n",
    "\n"
   ]
  },
  {
   "cell_type": "code",
   "execution_count": 167,
   "metadata": {},
   "outputs": [],
   "source": [
    "fies = pd.read_csv('relatorio_inscricao_dados_abertos_fies_22021.csv',sep=';', encoding='latin-1')"
   ]
  },
  {
   "cell_type": "code",
   "execution_count": 168,
   "metadata": {},
   "outputs": [
    {
     "name": "stdout",
     "output_type": "stream",
     "text": [
      "<class 'pandas.core.frame.DataFrame'>\n",
      "RangeIndex: 237965 entries, 0 to 237964\n",
      "Data columns (total 57 columns):\n",
      " #   Column                          Non-Null Count   Dtype  \n",
      "---  ------                          --------------   -----  \n",
      " 0   Ano do processo seletivo        237965 non-null  int64  \n",
      " 1   Semestre do processo seletivo   237965 non-null  int64  \n",
      " 2   ID do estudante                 237965 non-null  int64  \n",
      " 3   Sexo                            237965 non-null  object \n",
      " 4   Data de Nascimento              237965 non-null  object \n",
      " 5   UF de residência                237965 non-null  object \n",
      " 6   Municipio de residência         237965 non-null  object \n",
      " 7   Etnia/Cor                       237965 non-null  object \n",
      " 8   Pessoa com deficiência?         237965 non-null  object \n",
      " 9   Tipo de escola no ensino médio  237965 non-null  object \n",
      " 10  Ano conclusão ensino médio      237965 non-null  int64  \n",
      " 11  Concluiu curso superior?        237965 non-null  object \n",
      " 12  Professor rede pública ensino?  237965 non-null  object \n",
      " 13  Nº de membros Grupo Familiar    237965 non-null  int64  \n",
      " 14  Renda familiar mensal bruta     207690 non-null  object \n",
      " 15  Renda mensal bruta per capita   237965 non-null  object \n",
      " 16  Região grupo de preferência     237965 non-null  object \n",
      " 17  UF                              237965 non-null  object \n",
      " 18  Cod.Microrregião                237965 non-null  int64  \n",
      " 19  Microrregião                    237965 non-null  object \n",
      " 20  Cod.Mesorregião                 237965 non-null  int64  \n",
      " 21  Mesorregião                     237965 non-null  object \n",
      " 22  Conceito de curso do GP         237965 non-null  object \n",
      " 23  Área do conhecimento            237965 non-null  object \n",
      " 24  Subárea do conhecimento         237965 non-null  object \n",
      " 25  Cod. do Grupo de preferência    237965 non-null  int64  \n",
      " 26  Nota Corte Grupo Preferência    237965 non-null  object \n",
      " 27  Opções de cursos da inscrição   237965 non-null  int64  \n",
      " 28  Nome mantenedora                237965 non-null  object \n",
      " 29  Natureza Jurídica Mantenedora   237965 non-null  object \n",
      " 30  CNPJ da mantenedora             237965 non-null  int64  \n",
      " 31  Código e-MEC da Mantenedora     237965 non-null  int64  \n",
      " 32  Nome da IES                     237965 non-null  object \n",
      " 33  Código e-MEC da IES             237965 non-null  int64  \n",
      " 34  Organização Acadêmica da IES    237965 non-null  object \n",
      " 35  Município da IES                237965 non-null  object \n",
      " 36  UF da IES                       237965 non-null  object \n",
      " 37  Nome do Local de oferta         237965 non-null  object \n",
      " 38  Código do Local de Oferta       237965 non-null  int64  \n",
      " 39  Munícipio do Local de Oferta    237965 non-null  object \n",
      " 40  UF do Local de Oferta           237965 non-null  object \n",
      " 41  Código do curso                 237965 non-null  int64  \n",
      " 42  Nome do curso                   237965 non-null  object \n",
      " 43  Turno                           237965 non-null  object \n",
      " 44  Grau                            237965 non-null  object \n",
      " 45  Conceito                        237965 non-null  object \n",
      " 46  Média nota Enem                 237965 non-null  object \n",
      " 47  Ano do Enem                     237965 non-null  int64  \n",
      " 48  Redação                         237965 non-null  int64  \n",
      " 49  Matemática e suas Tecnologias   237965 non-null  object \n",
      " 50  Linguagens, Códigos e suas Tec  237965 non-null  object \n",
      " 51  Ciências Natureza e suas Tec    237965 non-null  object \n",
      " 52  Ciências Humanas e suas Tec     237965 non-null  object \n",
      " 53  Situação Inscrição Fies         237965 non-null  object \n",
      " 54  Percentual de financiamento     22443 non-null   object \n",
      " 55  Semestre do financiamento       207900 non-null  object \n",
      " 56  Qtde semestre financiado        52508 non-null   float64\n",
      "dtypes: float64(1), int64(16), object(40)\n",
      "memory usage: 103.5+ MB\n"
     ]
    }
   ],
   "source": [
    "fies.info()"
   ]
  },
  {
   "cell_type": "code",
   "execution_count": 169,
   "metadata": {},
   "outputs": [
    {
     "name": "stdout",
     "output_type": "stream",
     "text": [
      "O número de linhas do dataset é 237965.\n",
      "O data set contém 57 colunas.\n"
     ]
    }
   ],
   "source": [
    "print(f'O número de linhas do dataset é {fies.shape[0]}.')\n",
    "print(f'O data set contém {fies.shape[1]} colunas.')"
   ]
  },
  {
   "cell_type": "code",
   "execution_count": 170,
   "metadata": {},
   "outputs": [
    {
     "data": {
      "text/plain": [
       "Index(['Ano do processo seletivo', 'Semestre do processo seletivo',\n",
       "       'ID do estudante', 'Sexo', 'Data de Nascimento', 'UF de residência',\n",
       "       'Municipio de residência', 'Etnia/Cor', 'Pessoa com deficiência?',\n",
       "       'Tipo de escola no ensino médio', 'Ano conclusão ensino médio',\n",
       "       'Concluiu curso superior?', 'Professor rede pública ensino?',\n",
       "       'Nº de membros Grupo Familiar', 'Renda familiar mensal bruta',\n",
       "       'Renda mensal bruta per capita', 'Região grupo de preferência', 'UF',\n",
       "       'Cod.Microrregião', 'Microrregião', 'Cod.Mesorregião', 'Mesorregião',\n",
       "       'Conceito de curso do GP', 'Área do conhecimento',\n",
       "       'Subárea do conhecimento', 'Cod. do Grupo de preferência',\n",
       "       'Nota Corte Grupo Preferência', 'Opções de cursos da inscrição',\n",
       "       'Nome mantenedora', 'Natureza Jurídica Mantenedora',\n",
       "       'CNPJ da mantenedora', 'Código e-MEC da Mantenedora', 'Nome da IES',\n",
       "       'Código e-MEC da IES', 'Organização Acadêmica da IES',\n",
       "       'Município da IES', 'UF da IES', 'Nome do Local de oferta',\n",
       "       'Código do Local de Oferta', 'Munícipio do Local de Oferta',\n",
       "       'UF do Local de Oferta', 'Código do curso', 'Nome do curso', 'Turno',\n",
       "       'Grau', 'Conceito', 'Média nota Enem', 'Ano do Enem', 'Redação',\n",
       "       'Matemática e suas Tecnologias', 'Linguagens, Códigos e suas Tec',\n",
       "       'Ciências Natureza e suas Tec', 'Ciências Humanas e suas Tec',\n",
       "       'Situação Inscrição Fies', 'Percentual de financiamento',\n",
       "       'Semestre do financiamento', 'Qtde semestre financiado'],\n",
       "      dtype='object')"
      ]
     },
     "execution_count": 170,
     "metadata": {},
     "output_type": "execute_result"
    }
   ],
   "source": [
    "fies.columns"
   ]
  },
  {
   "cell_type": "code",
   "execution_count": 171,
   "metadata": {},
   "outputs": [],
   "source": [
    "dataset = fies[['Sexo', 'Etnia/Cor','Pessoa com deficiência?', 'Tipo de escola no ensino médio', 'Renda familiar mensal bruta', 'Renda mensal bruta per capita', 'Nome do curso', 'Turno', 'Média nota Enem', 'Situação Inscrição Fies']]"
   ]
  },
  {
   "cell_type": "markdown",
   "metadata": {},
   "source": [
    "Como vou querer realisar uma análise demográfica, é melhor eu filtrar as colunas que tenho maior interesse."
   ]
  },
  {
   "cell_type": "code",
   "execution_count": 172,
   "metadata": {},
   "outputs": [
    {
     "name": "stdout",
     "output_type": "stream",
     "text": [
      "Após o filtro o número de linhas é 237965.\n",
      "Após o filtro o número de colunas é 10.\n"
     ]
    }
   ],
   "source": [
    "print(f'Após o filtro o número de linhas é {dataset.shape[0]}.')\n",
    "print(f'Após o filtro o número de colunas é {dataset.shape[1]}.')"
   ]
  },
  {
   "cell_type": "code",
   "execution_count": 173,
   "metadata": {},
   "outputs": [
    {
     "data": {
      "text/html": [
       "<div>\n",
       "<style scoped>\n",
       "    .dataframe tbody tr th:only-of-type {\n",
       "        vertical-align: middle;\n",
       "    }\n",
       "\n",
       "    .dataframe tbody tr th {\n",
       "        vertical-align: top;\n",
       "    }\n",
       "\n",
       "    .dataframe thead th {\n",
       "        text-align: right;\n",
       "    }\n",
       "</style>\n",
       "<table border=\"1\" class=\"dataframe\">\n",
       "  <thead>\n",
       "    <tr style=\"text-align: right;\">\n",
       "      <th></th>\n",
       "      <th>Sexo</th>\n",
       "      <th>Etnia/Cor</th>\n",
       "      <th>Pessoa com deficiência?</th>\n",
       "      <th>Tipo de escola no ensino médio</th>\n",
       "      <th>Renda familiar mensal bruta</th>\n",
       "      <th>Renda mensal bruta per capita</th>\n",
       "      <th>Nome do curso</th>\n",
       "      <th>Turno</th>\n",
       "      <th>Média nota Enem</th>\n",
       "      <th>Situação Inscrição Fies</th>\n",
       "    </tr>\n",
       "  </thead>\n",
       "  <tbody>\n",
       "    <tr>\n",
       "      <th>0</th>\n",
       "      <td>M</td>\n",
       "      <td>PARDA</td>\n",
       "      <td>NÃO</td>\n",
       "      <td>SIM</td>\n",
       "      <td>4253,03</td>\n",
       "      <td>1417,68</td>\n",
       "      <td>DIREITO</td>\n",
       "      <td>NOTURNO</td>\n",
       "      <td>624,1</td>\n",
       "      <td>NÃO CONTRATADO</td>\n",
       "    </tr>\n",
       "    <tr>\n",
       "      <th>1</th>\n",
       "      <td>M</td>\n",
       "      <td>PARDA</td>\n",
       "      <td>NÃO</td>\n",
       "      <td>SIM</td>\n",
       "      <td>4253,03</td>\n",
       "      <td>1417,68</td>\n",
       "      <td>DIREITO</td>\n",
       "      <td>MATUTINO</td>\n",
       "      <td>624,1</td>\n",
       "      <td>NÃO CONTRATADO</td>\n",
       "    </tr>\n",
       "    <tr>\n",
       "      <th>2</th>\n",
       "      <td>M</td>\n",
       "      <td>BRANCA</td>\n",
       "      <td>NÃO</td>\n",
       "      <td>NÃO</td>\n",
       "      <td>NaN</td>\n",
       "      <td>1600</td>\n",
       "      <td>DIREITO</td>\n",
       "      <td>NOTURNO</td>\n",
       "      <td>701,82</td>\n",
       "      <td>PARTICIPACAO CANCELADA PELO CANDIDATO</td>\n",
       "    </tr>\n",
       "    <tr>\n",
       "      <th>3</th>\n",
       "      <td>M</td>\n",
       "      <td>BRANCA</td>\n",
       "      <td>NÃO</td>\n",
       "      <td>SIM</td>\n",
       "      <td>1574,07</td>\n",
       "      <td>787,04</td>\n",
       "      <td>DIREITO</td>\n",
       "      <td>MATUTINO</td>\n",
       "      <td>598,54</td>\n",
       "      <td>OPÇÃO NÃO CONTRATADA</td>\n",
       "    </tr>\n",
       "    <tr>\n",
       "      <th>4</th>\n",
       "      <td>F</td>\n",
       "      <td>BRANCA</td>\n",
       "      <td>NÃO</td>\n",
       "      <td>SIM</td>\n",
       "      <td>2500</td>\n",
       "      <td>833,33</td>\n",
       "      <td>DIREITO</td>\n",
       "      <td>NOTURNO</td>\n",
       "      <td>512,16</td>\n",
       "      <td>NÃO CONTRATADO</td>\n",
       "    </tr>\n",
       "  </tbody>\n",
       "</table>\n",
       "</div>"
      ],
      "text/plain": [
       "  Sexo Etnia/Cor Pessoa com deficiência? Tipo de escola no ensino médio  \\\n",
       "0    M     PARDA                     NÃO                            SIM   \n",
       "1    M     PARDA                     NÃO                            SIM   \n",
       "2    M    BRANCA                     NÃO                            NÃO   \n",
       "3    M    BRANCA                     NÃO                            SIM   \n",
       "4    F    BRANCA                     NÃO                            SIM   \n",
       "\n",
       "  Renda familiar mensal bruta Renda mensal bruta per capita Nome do curso  \\\n",
       "0                     4253,03                       1417,68       DIREITO   \n",
       "1                     4253,03                       1417,68       DIREITO   \n",
       "2                         NaN                          1600       DIREITO   \n",
       "3                     1574,07                        787,04       DIREITO   \n",
       "4                        2500                        833,33       DIREITO   \n",
       "\n",
       "      Turno Média nota Enem                Situação Inscrição Fies  \n",
       "0   NOTURNO           624,1                         NÃO CONTRATADO  \n",
       "1  MATUTINO           624,1                         NÃO CONTRATADO  \n",
       "2   NOTURNO          701,82  PARTICIPACAO CANCELADA PELO CANDIDATO  \n",
       "3  MATUTINO          598,54                   OPÇÃO NÃO CONTRATADA  \n",
       "4   NOTURNO          512,16                         NÃO CONTRATADO  "
      ]
     },
     "metadata": {},
     "output_type": "display_data"
    },
    {
     "data": {
      "text/html": [
       "<div>\n",
       "<style scoped>\n",
       "    .dataframe tbody tr th:only-of-type {\n",
       "        vertical-align: middle;\n",
       "    }\n",
       "\n",
       "    .dataframe tbody tr th {\n",
       "        vertical-align: top;\n",
       "    }\n",
       "\n",
       "    .dataframe thead th {\n",
       "        text-align: right;\n",
       "    }\n",
       "</style>\n",
       "<table border=\"1\" class=\"dataframe\">\n",
       "  <thead>\n",
       "    <tr style=\"text-align: right;\">\n",
       "      <th></th>\n",
       "      <th>Sexo</th>\n",
       "      <th>Etnia/Cor</th>\n",
       "      <th>Pessoa com deficiência?</th>\n",
       "      <th>Tipo de escola no ensino médio</th>\n",
       "      <th>Renda familiar mensal bruta</th>\n",
       "      <th>Renda mensal bruta per capita</th>\n",
       "      <th>Nome do curso</th>\n",
       "      <th>Turno</th>\n",
       "      <th>Média nota Enem</th>\n",
       "      <th>Situação Inscrição Fies</th>\n",
       "    </tr>\n",
       "  </thead>\n",
       "  <tbody>\n",
       "    <tr>\n",
       "      <th>237960</th>\n",
       "      <td>M</td>\n",
       "      <td>BRANCA</td>\n",
       "      <td>NÃO</td>\n",
       "      <td>SIM</td>\n",
       "      <td>1300</td>\n",
       "      <td>433,33</td>\n",
       "      <td>ENGENHARIA DA COMPUTAÇÃO</td>\n",
       "      <td>NOTURNO</td>\n",
       "      <td>570,6</td>\n",
       "      <td>NÃO CONTRATADO</td>\n",
       "    </tr>\n",
       "    <tr>\n",
       "      <th>237961</th>\n",
       "      <td>F</td>\n",
       "      <td>PRETA</td>\n",
       "      <td>NÃO</td>\n",
       "      <td>NÃO</td>\n",
       "      <td>NaN</td>\n",
       "      <td>1100</td>\n",
       "      <td>ENGENHARIA DE PRODUÇÃO</td>\n",
       "      <td>NOTURNO</td>\n",
       "      <td>500,9</td>\n",
       "      <td>NÃO CONTRATADO</td>\n",
       "    </tr>\n",
       "    <tr>\n",
       "      <th>237962</th>\n",
       "      <td>M</td>\n",
       "      <td>BRANCA</td>\n",
       "      <td>NÃO</td>\n",
       "      <td>NÃO</td>\n",
       "      <td>5922,44</td>\n",
       "      <td>2961,22</td>\n",
       "      <td>ENGENHARIA DE PRODUÇÃO</td>\n",
       "      <td>NOTURNO</td>\n",
       "      <td>640,08</td>\n",
       "      <td>PRÉ-SELECIONADO</td>\n",
       "    </tr>\n",
       "    <tr>\n",
       "      <th>237963</th>\n",
       "      <td>F</td>\n",
       "      <td>PARDA</td>\n",
       "      <td>NÃO</td>\n",
       "      <td>SIM</td>\n",
       "      <td>6517,59</td>\n",
       "      <td>1629,4</td>\n",
       "      <td>PSICOLOGIA</td>\n",
       "      <td>NOTURNO</td>\n",
       "      <td>535,16</td>\n",
       "      <td>PARTICIPACAO CANCELADA PELO CANDIDATO</td>\n",
       "    </tr>\n",
       "    <tr>\n",
       "      <th>237964</th>\n",
       "      <td>F</td>\n",
       "      <td>PARDA</td>\n",
       "      <td>NÃO</td>\n",
       "      <td>SIM</td>\n",
       "      <td>1200,5</td>\n",
       "      <td>400,17</td>\n",
       "      <td>PEDAGOGIA</td>\n",
       "      <td>NOTURNO</td>\n",
       "      <td>549,94</td>\n",
       "      <td>PARTICIPACAO CANCELADA PELO CANDIDATO</td>\n",
       "    </tr>\n",
       "  </tbody>\n",
       "</table>\n",
       "</div>"
      ],
      "text/plain": [
       "       Sexo Etnia/Cor Pessoa com deficiência? Tipo de escola no ensino médio  \\\n",
       "237960    M    BRANCA                     NÃO                            SIM   \n",
       "237961    F     PRETA                     NÃO                            NÃO   \n",
       "237962    M    BRANCA                     NÃO                            NÃO   \n",
       "237963    F     PARDA                     NÃO                            SIM   \n",
       "237964    F     PARDA                     NÃO                            SIM   \n",
       "\n",
       "       Renda familiar mensal bruta Renda mensal bruta per capita  \\\n",
       "237960                        1300                        433,33   \n",
       "237961                         NaN                          1100   \n",
       "237962                     5922,44                       2961,22   \n",
       "237963                     6517,59                        1629,4   \n",
       "237964                      1200,5                        400,17   \n",
       "\n",
       "                   Nome do curso    Turno Média nota Enem  \\\n",
       "237960  ENGENHARIA DA COMPUTAÇÃO  NOTURNO           570,6   \n",
       "237961    ENGENHARIA DE PRODUÇÃO  NOTURNO           500,9   \n",
       "237962    ENGENHARIA DE PRODUÇÃO  NOTURNO          640,08   \n",
       "237963                PSICOLOGIA  NOTURNO          535,16   \n",
       "237964                 PEDAGOGIA  NOTURNO          549,94   \n",
       "\n",
       "                      Situação Inscrição Fies  \n",
       "237960                         NÃO CONTRATADO  \n",
       "237961                         NÃO CONTRATADO  \n",
       "237962                        PRÉ-SELECIONADO  \n",
       "237963  PARTICIPACAO CANCELADA PELO CANDIDATO  \n",
       "237964  PARTICIPACAO CANCELADA PELO CANDIDATO  "
      ]
     },
     "metadata": {},
     "output_type": "display_data"
    }
   ],
   "source": [
    "display(dataset.head())\n",
    "display(dataset.tail())"
   ]
  },
  {
   "cell_type": "code",
   "execution_count": 174,
   "metadata": {},
   "outputs": [
    {
     "data": {
      "text/plain": [
       "Sexo                              object\n",
       "Etnia/Cor                         object\n",
       "Pessoa com deficiência?           object\n",
       "Tipo de escola no ensino médio    object\n",
       "Renda familiar mensal bruta       object\n",
       "Renda mensal bruta per capita     object\n",
       "Nome do curso                     object\n",
       "Turno                             object\n",
       "Média nota Enem                   object\n",
       "Situação Inscrição Fies           object\n",
       "dtype: object"
      ]
     },
     "execution_count": 174,
     "metadata": {},
     "output_type": "execute_result"
    }
   ],
   "source": [
    "dataset.dtypes"
   ]
  },
  {
   "cell_type": "markdown",
   "metadata": {},
   "source": [
    "Os dados possuem algumas inconsitências, primeiramente podemos notar a presença de Missing Values na nossa base de dados. Além disso, temos o tipo de dado errado para as colunas *Renda familiar mensal bruta*, *Renda mensal bruta per capita* e *Média nota Enem* que estão classificadas como objeto quando deveriam estar como float, e, por fim, os dados dessas colunas mencionadas anteriormente estão separados por *virgula* e não por *ponto* como deveria ser."
   ]
  },
  {
   "cell_type": "markdown",
   "metadata": {},
   "source": [
    "# Data Cleaning"
   ]
  },
  {
   "cell_type": "code",
   "execution_count": 175,
   "metadata": {},
   "outputs": [
    {
     "name": "stderr",
     "output_type": "stream",
     "text": [
      "c:\\Users\\nrodr\\anaconda3\\envs\\fies_AED\\lib\\site-packages\\pandas\\core\\frame.py:3191: SettingWithCopyWarning: \n",
      "A value is trying to be set on a copy of a slice from a DataFrame.\n",
      "Try using .loc[row_indexer,col_indexer] = value instead\n",
      "\n",
      "See the caveats in the documentation: https://pandas.pydata.org/pandas-docs/stable/user_guide/indexing.html#returning-a-view-versus-a-copy\n",
      "  self[k1] = value[k2]\n"
     ]
    }
   ],
   "source": [
    "colunas = ['Renda familiar mensal bruta','Renda mensal bruta per capita','Média nota Enem']\n",
    "dataset[colunas] = dataset[colunas].applymap(lambda x: str(x).replace(',','.'))"
   ]
  },
  {
   "cell_type": "markdown",
   "metadata": {},
   "source": [
    "O código acima tem o objetivo de tratar a inconsistência do separador, para poder realizar as analises de forma correta devemos trocar a virgula para o ponto.\n",
    "\n",
    "Então, eu crio uma lista *colunas* e passo como argumento dessa lista as colunas que estão com essa inconsistência, após isso, utilizo a função applymap() junto com a função anônima lambda para aplicar em todas as linhas das colunas da minha lista a função replace() para trocas todas virgulas por ponto."
   ]
  },
  {
   "cell_type": "code",
   "execution_count": 176,
   "metadata": {},
   "outputs": [],
   "source": [
    "dataset = dataset.astype({\n",
    "    'Renda familiar mensal bruta': 'float',\n",
    "    'Renda mensal bruta per capita': 'float',\n",
    "    'Média nota Enem': 'float'\n",
    "})"
   ]
  },
  {
   "cell_type": "markdown",
   "metadata": {},
   "source": [
    "Agora, realizei o tratamento referente ao tipo dos dados convertendo object -> float para poder realizar as analises posteriores de forma correta"
   ]
  },
  {
   "cell_type": "code",
   "execution_count": 177,
   "metadata": {},
   "outputs": [
    {
     "data": {
      "text/html": [
       "<div>\n",
       "<style scoped>\n",
       "    .dataframe tbody tr th:only-of-type {\n",
       "        vertical-align: middle;\n",
       "    }\n",
       "\n",
       "    .dataframe tbody tr th {\n",
       "        vertical-align: top;\n",
       "    }\n",
       "\n",
       "    .dataframe thead th {\n",
       "        text-align: right;\n",
       "    }\n",
       "</style>\n",
       "<table border=\"1\" class=\"dataframe\">\n",
       "  <thead>\n",
       "    <tr style=\"text-align: right;\">\n",
       "      <th></th>\n",
       "      <th>Sexo</th>\n",
       "      <th>Etnia/Cor</th>\n",
       "      <th>Pessoa com deficiência?</th>\n",
       "      <th>Tipo de escola no ensino médio</th>\n",
       "      <th>Renda familiar mensal bruta</th>\n",
       "      <th>Renda mensal bruta per capita</th>\n",
       "      <th>Nome do curso</th>\n",
       "      <th>Turno</th>\n",
       "      <th>Média nota Enem</th>\n",
       "      <th>Situação Inscrição Fies</th>\n",
       "    </tr>\n",
       "  </thead>\n",
       "  <tbody>\n",
       "    <tr>\n",
       "      <th>0</th>\n",
       "      <td>M</td>\n",
       "      <td>PARDA</td>\n",
       "      <td>NÃO</td>\n",
       "      <td>SIM</td>\n",
       "      <td>4253.03</td>\n",
       "      <td>1417.68</td>\n",
       "      <td>DIREITO</td>\n",
       "      <td>NOTURNO</td>\n",
       "      <td>624.10</td>\n",
       "      <td>NÃO CONTRATADO</td>\n",
       "    </tr>\n",
       "    <tr>\n",
       "      <th>1</th>\n",
       "      <td>M</td>\n",
       "      <td>PARDA</td>\n",
       "      <td>NÃO</td>\n",
       "      <td>SIM</td>\n",
       "      <td>4253.03</td>\n",
       "      <td>1417.68</td>\n",
       "      <td>DIREITO</td>\n",
       "      <td>MATUTINO</td>\n",
       "      <td>624.10</td>\n",
       "      <td>NÃO CONTRATADO</td>\n",
       "    </tr>\n",
       "    <tr>\n",
       "      <th>2</th>\n",
       "      <td>M</td>\n",
       "      <td>BRANCA</td>\n",
       "      <td>NÃO</td>\n",
       "      <td>NÃO</td>\n",
       "      <td>NaN</td>\n",
       "      <td>1600.00</td>\n",
       "      <td>DIREITO</td>\n",
       "      <td>NOTURNO</td>\n",
       "      <td>701.82</td>\n",
       "      <td>PARTICIPACAO CANCELADA PELO CANDIDATO</td>\n",
       "    </tr>\n",
       "    <tr>\n",
       "      <th>3</th>\n",
       "      <td>M</td>\n",
       "      <td>BRANCA</td>\n",
       "      <td>NÃO</td>\n",
       "      <td>SIM</td>\n",
       "      <td>1574.07</td>\n",
       "      <td>787.04</td>\n",
       "      <td>DIREITO</td>\n",
       "      <td>MATUTINO</td>\n",
       "      <td>598.54</td>\n",
       "      <td>OPÇÃO NÃO CONTRATADA</td>\n",
       "    </tr>\n",
       "    <tr>\n",
       "      <th>4</th>\n",
       "      <td>F</td>\n",
       "      <td>BRANCA</td>\n",
       "      <td>NÃO</td>\n",
       "      <td>SIM</td>\n",
       "      <td>2500.00</td>\n",
       "      <td>833.33</td>\n",
       "      <td>DIREITO</td>\n",
       "      <td>NOTURNO</td>\n",
       "      <td>512.16</td>\n",
       "      <td>NÃO CONTRATADO</td>\n",
       "    </tr>\n",
       "  </tbody>\n",
       "</table>\n",
       "</div>"
      ],
      "text/plain": [
       "  Sexo Etnia/Cor Pessoa com deficiência? Tipo de escola no ensino médio  \\\n",
       "0    M     PARDA                     NÃO                            SIM   \n",
       "1    M     PARDA                     NÃO                            SIM   \n",
       "2    M    BRANCA                     NÃO                            NÃO   \n",
       "3    M    BRANCA                     NÃO                            SIM   \n",
       "4    F    BRANCA                     NÃO                            SIM   \n",
       "\n",
       "   Renda familiar mensal bruta  Renda mensal bruta per capita Nome do curso  \\\n",
       "0                      4253.03                        1417.68       DIREITO   \n",
       "1                      4253.03                        1417.68       DIREITO   \n",
       "2                          NaN                        1600.00       DIREITO   \n",
       "3                      1574.07                         787.04       DIREITO   \n",
       "4                      2500.00                         833.33       DIREITO   \n",
       "\n",
       "      Turno  Média nota Enem                Situação Inscrição Fies  \n",
       "0   NOTURNO           624.10                         NÃO CONTRATADO  \n",
       "1  MATUTINO           624.10                         NÃO CONTRATADO  \n",
       "2   NOTURNO           701.82  PARTICIPACAO CANCELADA PELO CANDIDATO  \n",
       "3  MATUTINO           598.54                   OPÇÃO NÃO CONTRATADA  \n",
       "4   NOTURNO           512.16                         NÃO CONTRATADO  "
      ]
     },
     "metadata": {},
     "output_type": "display_data"
    },
    {
     "data": {
      "text/html": [
       "<div>\n",
       "<style scoped>\n",
       "    .dataframe tbody tr th:only-of-type {\n",
       "        vertical-align: middle;\n",
       "    }\n",
       "\n",
       "    .dataframe tbody tr th {\n",
       "        vertical-align: top;\n",
       "    }\n",
       "\n",
       "    .dataframe thead th {\n",
       "        text-align: right;\n",
       "    }\n",
       "</style>\n",
       "<table border=\"1\" class=\"dataframe\">\n",
       "  <thead>\n",
       "    <tr style=\"text-align: right;\">\n",
       "      <th></th>\n",
       "      <th>Sexo</th>\n",
       "      <th>Etnia/Cor</th>\n",
       "      <th>Pessoa com deficiência?</th>\n",
       "      <th>Tipo de escola no ensino médio</th>\n",
       "      <th>Renda familiar mensal bruta</th>\n",
       "      <th>Renda mensal bruta per capita</th>\n",
       "      <th>Nome do curso</th>\n",
       "      <th>Turno</th>\n",
       "      <th>Média nota Enem</th>\n",
       "      <th>Situação Inscrição Fies</th>\n",
       "    </tr>\n",
       "  </thead>\n",
       "  <tbody>\n",
       "    <tr>\n",
       "      <th>237960</th>\n",
       "      <td>M</td>\n",
       "      <td>BRANCA</td>\n",
       "      <td>NÃO</td>\n",
       "      <td>SIM</td>\n",
       "      <td>1300.00</td>\n",
       "      <td>433.33</td>\n",
       "      <td>ENGENHARIA DA COMPUTAÇÃO</td>\n",
       "      <td>NOTURNO</td>\n",
       "      <td>570.60</td>\n",
       "      <td>NÃO CONTRATADO</td>\n",
       "    </tr>\n",
       "    <tr>\n",
       "      <th>237961</th>\n",
       "      <td>F</td>\n",
       "      <td>PRETA</td>\n",
       "      <td>NÃO</td>\n",
       "      <td>NÃO</td>\n",
       "      <td>NaN</td>\n",
       "      <td>1100.00</td>\n",
       "      <td>ENGENHARIA DE PRODUÇÃO</td>\n",
       "      <td>NOTURNO</td>\n",
       "      <td>500.90</td>\n",
       "      <td>NÃO CONTRATADO</td>\n",
       "    </tr>\n",
       "    <tr>\n",
       "      <th>237962</th>\n",
       "      <td>M</td>\n",
       "      <td>BRANCA</td>\n",
       "      <td>NÃO</td>\n",
       "      <td>NÃO</td>\n",
       "      <td>5922.44</td>\n",
       "      <td>2961.22</td>\n",
       "      <td>ENGENHARIA DE PRODUÇÃO</td>\n",
       "      <td>NOTURNO</td>\n",
       "      <td>640.08</td>\n",
       "      <td>PRÉ-SELECIONADO</td>\n",
       "    </tr>\n",
       "    <tr>\n",
       "      <th>237963</th>\n",
       "      <td>F</td>\n",
       "      <td>PARDA</td>\n",
       "      <td>NÃO</td>\n",
       "      <td>SIM</td>\n",
       "      <td>6517.59</td>\n",
       "      <td>1629.40</td>\n",
       "      <td>PSICOLOGIA</td>\n",
       "      <td>NOTURNO</td>\n",
       "      <td>535.16</td>\n",
       "      <td>PARTICIPACAO CANCELADA PELO CANDIDATO</td>\n",
       "    </tr>\n",
       "    <tr>\n",
       "      <th>237964</th>\n",
       "      <td>F</td>\n",
       "      <td>PARDA</td>\n",
       "      <td>NÃO</td>\n",
       "      <td>SIM</td>\n",
       "      <td>1200.50</td>\n",
       "      <td>400.17</td>\n",
       "      <td>PEDAGOGIA</td>\n",
       "      <td>NOTURNO</td>\n",
       "      <td>549.94</td>\n",
       "      <td>PARTICIPACAO CANCELADA PELO CANDIDATO</td>\n",
       "    </tr>\n",
       "  </tbody>\n",
       "</table>\n",
       "</div>"
      ],
      "text/plain": [
       "       Sexo Etnia/Cor Pessoa com deficiência? Tipo de escola no ensino médio  \\\n",
       "237960    M    BRANCA                     NÃO                            SIM   \n",
       "237961    F     PRETA                     NÃO                            NÃO   \n",
       "237962    M    BRANCA                     NÃO                            NÃO   \n",
       "237963    F     PARDA                     NÃO                            SIM   \n",
       "237964    F     PARDA                     NÃO                            SIM   \n",
       "\n",
       "        Renda familiar mensal bruta  Renda mensal bruta per capita  \\\n",
       "237960                      1300.00                         433.33   \n",
       "237961                          NaN                        1100.00   \n",
       "237962                      5922.44                        2961.22   \n",
       "237963                      6517.59                        1629.40   \n",
       "237964                      1200.50                         400.17   \n",
       "\n",
       "                   Nome do curso    Turno  Média nota Enem  \\\n",
       "237960  ENGENHARIA DA COMPUTAÇÃO  NOTURNO           570.60   \n",
       "237961    ENGENHARIA DE PRODUÇÃO  NOTURNO           500.90   \n",
       "237962    ENGENHARIA DE PRODUÇÃO  NOTURNO           640.08   \n",
       "237963                PSICOLOGIA  NOTURNO           535.16   \n",
       "237964                 PEDAGOGIA  NOTURNO           549.94   \n",
       "\n",
       "                      Situação Inscrição Fies  \n",
       "237960                         NÃO CONTRATADO  \n",
       "237961                         NÃO CONTRATADO  \n",
       "237962                        PRÉ-SELECIONADO  \n",
       "237963  PARTICIPACAO CANCELADA PELO CANDIDATO  \n",
       "237964  PARTICIPACAO CANCELADA PELO CANDIDATO  "
      ]
     },
     "metadata": {},
     "output_type": "display_data"
    },
    {
     "data": {
      "text/plain": [
       "Sexo                               object\n",
       "Etnia/Cor                          object\n",
       "Pessoa com deficiência?            object\n",
       "Tipo de escola no ensino médio     object\n",
       "Renda familiar mensal bruta       float64\n",
       "Renda mensal bruta per capita     float64\n",
       "Nome do curso                      object\n",
       "Turno                              object\n",
       "Média nota Enem                   float64\n",
       "Situação Inscrição Fies            object\n",
       "dtype: object"
      ]
     },
     "metadata": {},
     "output_type": "display_data"
    }
   ],
   "source": [
    "display(dataset.head())\n",
    "display(dataset.tail())\n",
    "display(dataset.dtypes)"
   ]
  },
  {
   "cell_type": "markdown",
   "metadata": {},
   "source": [
    "Podemos ver que agora nossos dados estão nos formatos que eu preciso para poder realizar o resto das análises, porém ainda temos os missing values.\n",
    "\n",
    "Temos alguns tipos de missing values\n",
    "1. Missing completely values: Esses são quando os valores não dependem de nenhuma outra feature.\n",
    "2. Missing at random: São quando os valores dependem de alguma feature.\n",
    "3. Missing not at random: Esses os valores nulos tem alguma razão para estarem assim.\n",
    "\n",
    "De acordo com os tipos principais, nossos dados entram no primeiro tipo, Missing Completely Values e portanto não dependem de nenhuma feature"
   ]
  },
  {
   "cell_type": "code",
   "execution_count": 178,
   "metadata": {},
   "outputs": [
    {
     "data": {
      "text/plain": [
       "Sexo                                  0\n",
       "Etnia/Cor                             0\n",
       "Pessoa com deficiência?               0\n",
       "Tipo de escola no ensino médio        0\n",
       "Renda familiar mensal bruta       30275\n",
       "Renda mensal bruta per capita         0\n",
       "Nome do curso                         0\n",
       "Turno                                 0\n",
       "Média nota Enem                       0\n",
       "Situação Inscrição Fies               0\n",
       "dtype: int64"
      ]
     },
     "execution_count": 178,
     "metadata": {},
     "output_type": "execute_result"
    }
   ],
   "source": [
    "dataset.isnull().sum()"
   ]
  },
  {
   "cell_type": "markdown",
   "metadata": {},
   "source": [
    "## Porcentagem de missing values"
   ]
  },
  {
   "cell_type": "code",
   "execution_count": 179,
   "metadata": {},
   "outputs": [
    {
     "data": {
      "text/plain": [
       "Sexo                              0.000000\n",
       "Etnia/Cor                         0.000000\n",
       "Pessoa com deficiência?           0.000000\n",
       "Tipo de escola no ensino médio    0.000000\n",
       "Renda familiar mensal bruta       0.127225\n",
       "Renda mensal bruta per capita     0.000000\n",
       "Nome do curso                     0.000000\n",
       "Turno                             0.000000\n",
       "Média nota Enem                   0.000000\n",
       "Situação Inscrição Fies           0.000000\n",
       "dtype: float64"
      ]
     },
     "execution_count": 179,
     "metadata": {},
     "output_type": "execute_result"
    }
   ],
   "source": [
    "dataset.isnull().sum()/dataset.shape[0]"
   ]
  },
  {
   "cell_type": "code",
   "execution_count": 180,
   "metadata": {},
   "outputs": [
    {
     "data": {
      "text/plain": [
       "Renda familiar mensal bruta       12.722459\n",
       "Sexo                               0.000000\n",
       "Etnia/Cor                          0.000000\n",
       "Pessoa com deficiência?            0.000000\n",
       "Tipo de escola no ensino médio     0.000000\n",
       "Renda mensal bruta per capita      0.000000\n",
       "Nome do curso                      0.000000\n",
       "Turno                              0.000000\n",
       "Média nota Enem                    0.000000\n",
       "Situação Inscrição Fies            0.000000\n",
       "dtype: float64"
      ]
     },
     "execution_count": 180,
     "metadata": {},
     "output_type": "execute_result"
    }
   ],
   "source": [
    "#organizando por ordem decrescente\n",
    "(dataset.isnull().sum().sort_values(ascending=False)/dataset.shape[0])*100"
   ]
  },
  {
   "cell_type": "markdown",
   "metadata": {},
   "source": [
    "Podemos notar que 12,72% aproximadamente dos meus dados na coluna *Renda familiar mensal bruta* são NaN. Para minha análise exploratória o tratamento que irei utilizar é a exclusão dos dados por entender que é uma porcentagem baixa devido a quantidade de dados que ainda irá restar."
   ]
  },
  {
   "cell_type": "code",
   "execution_count": 181,
   "metadata": {},
   "outputs": [],
   "source": [
    "dataset.loc[dataset['Sexo'] == 'M', 'Sexo'] = 'Masculino'\n",
    "dataset.loc[dataset['Sexo'] == 'F', 'Sexo'] = 'Feminino'"
   ]
  },
  {
   "cell_type": "markdown",
   "metadata": {},
   "source": [
    "Por último, decidi trocar os valores contidos na coluna *Sexo*, M -> Masculino e F -> Feminino."
   ]
  },
  {
   "cell_type": "code",
   "execution_count": 182,
   "metadata": {},
   "outputs": [
    {
     "data": {
      "text/plain": [
       "Sexo                              0\n",
       "Etnia/Cor                         0\n",
       "Pessoa com deficiência?           0\n",
       "Tipo de escola no ensino médio    0\n",
       "Renda familiar mensal bruta       0\n",
       "Renda mensal bruta per capita     0\n",
       "Nome do curso                     0\n",
       "Turno                             0\n",
       "Média nota Enem                   0\n",
       "Situação Inscrição Fies           0\n",
       "dtype: int64"
      ]
     },
     "execution_count": 182,
     "metadata": {},
     "output_type": "execute_result"
    }
   ],
   "source": [
    "dataset_clean = dataset.dropna()\n",
    "dataset_clean.isna().sum()"
   ]
  },
  {
   "cell_type": "markdown",
   "metadata": {},
   "source": [
    "Foi criada uma nova variável para armazenar a base de dados que estamos analizando sem os missing values, a nova variável foi criada para não perder a referência do DataFrame."
   ]
  },
  {
   "cell_type": "markdown",
   "metadata": {},
   "source": [
    "# Análise dos dados demográficos"
   ]
  },
  {
   "cell_type": "code",
   "execution_count": 183,
   "metadata": {},
   "outputs": [
    {
     "data": {
      "text/html": [
       "<div>\n",
       "<style scoped>\n",
       "    .dataframe tbody tr th:only-of-type {\n",
       "        vertical-align: middle;\n",
       "    }\n",
       "\n",
       "    .dataframe tbody tr th {\n",
       "        vertical-align: top;\n",
       "    }\n",
       "\n",
       "    .dataframe thead th {\n",
       "        text-align: right;\n",
       "    }\n",
       "</style>\n",
       "<table border=\"1\" class=\"dataframe\">\n",
       "  <thead>\n",
       "    <tr style=\"text-align: right;\">\n",
       "      <th></th>\n",
       "      <th>Sexo</th>\n",
       "      <th>Etnia/Cor</th>\n",
       "      <th>Pessoa com deficiência?</th>\n",
       "      <th>Tipo de escola no ensino médio</th>\n",
       "      <th>Renda familiar mensal bruta</th>\n",
       "      <th>Renda mensal bruta per capita</th>\n",
       "      <th>Nome do curso</th>\n",
       "      <th>Turno</th>\n",
       "      <th>Média nota Enem</th>\n",
       "      <th>Situação Inscrição Fies</th>\n",
       "    </tr>\n",
       "  </thead>\n",
       "  <tbody>\n",
       "    <tr>\n",
       "      <th>0</th>\n",
       "      <td>Masculino</td>\n",
       "      <td>PARDA</td>\n",
       "      <td>NÃO</td>\n",
       "      <td>SIM</td>\n",
       "      <td>4253.03</td>\n",
       "      <td>1417.68</td>\n",
       "      <td>DIREITO</td>\n",
       "      <td>NOTURNO</td>\n",
       "      <td>624.10</td>\n",
       "      <td>NÃO CONTRATADO</td>\n",
       "    </tr>\n",
       "    <tr>\n",
       "      <th>1</th>\n",
       "      <td>Masculino</td>\n",
       "      <td>PARDA</td>\n",
       "      <td>NÃO</td>\n",
       "      <td>SIM</td>\n",
       "      <td>4253.03</td>\n",
       "      <td>1417.68</td>\n",
       "      <td>DIREITO</td>\n",
       "      <td>MATUTINO</td>\n",
       "      <td>624.10</td>\n",
       "      <td>NÃO CONTRATADO</td>\n",
       "    </tr>\n",
       "    <tr>\n",
       "      <th>3</th>\n",
       "      <td>Masculino</td>\n",
       "      <td>BRANCA</td>\n",
       "      <td>NÃO</td>\n",
       "      <td>SIM</td>\n",
       "      <td>1574.07</td>\n",
       "      <td>787.04</td>\n",
       "      <td>DIREITO</td>\n",
       "      <td>MATUTINO</td>\n",
       "      <td>598.54</td>\n",
       "      <td>OPÇÃO NÃO CONTRATADA</td>\n",
       "    </tr>\n",
       "    <tr>\n",
       "      <th>4</th>\n",
       "      <td>Feminino</td>\n",
       "      <td>BRANCA</td>\n",
       "      <td>NÃO</td>\n",
       "      <td>SIM</td>\n",
       "      <td>2500.00</td>\n",
       "      <td>833.33</td>\n",
       "      <td>DIREITO</td>\n",
       "      <td>NOTURNO</td>\n",
       "      <td>512.16</td>\n",
       "      <td>NÃO CONTRATADO</td>\n",
       "    </tr>\n",
       "    <tr>\n",
       "      <th>5</th>\n",
       "      <td>Feminino</td>\n",
       "      <td>BRANCA</td>\n",
       "      <td>NÃO</td>\n",
       "      <td>SIM</td>\n",
       "      <td>2500.00</td>\n",
       "      <td>833.33</td>\n",
       "      <td>DIREITO</td>\n",
       "      <td>MATUTINO</td>\n",
       "      <td>512.16</td>\n",
       "      <td>NÃO CONTRATADO</td>\n",
       "    </tr>\n",
       "  </tbody>\n",
       "</table>\n",
       "</div>"
      ],
      "text/plain": [
       "        Sexo Etnia/Cor Pessoa com deficiência? Tipo de escola no ensino médio  \\\n",
       "0  Masculino     PARDA                     NÃO                            SIM   \n",
       "1  Masculino     PARDA                     NÃO                            SIM   \n",
       "3  Masculino    BRANCA                     NÃO                            SIM   \n",
       "4   Feminino    BRANCA                     NÃO                            SIM   \n",
       "5   Feminino    BRANCA                     NÃO                            SIM   \n",
       "\n",
       "   Renda familiar mensal bruta  Renda mensal bruta per capita Nome do curso  \\\n",
       "0                      4253.03                        1417.68       DIREITO   \n",
       "1                      4253.03                        1417.68       DIREITO   \n",
       "3                      1574.07                         787.04       DIREITO   \n",
       "4                      2500.00                         833.33       DIREITO   \n",
       "5                      2500.00                         833.33       DIREITO   \n",
       "\n",
       "      Turno  Média nota Enem Situação Inscrição Fies  \n",
       "0   NOTURNO           624.10          NÃO CONTRATADO  \n",
       "1  MATUTINO           624.10          NÃO CONTRATADO  \n",
       "3  MATUTINO           598.54    OPÇÃO NÃO CONTRATADA  \n",
       "4   NOTURNO           512.16          NÃO CONTRATADO  \n",
       "5  MATUTINO           512.16          NÃO CONTRATADO  "
      ]
     },
     "metadata": {},
     "output_type": "display_data"
    },
    {
     "data": {
      "text/html": [
       "<div>\n",
       "<style scoped>\n",
       "    .dataframe tbody tr th:only-of-type {\n",
       "        vertical-align: middle;\n",
       "    }\n",
       "\n",
       "    .dataframe tbody tr th {\n",
       "        vertical-align: top;\n",
       "    }\n",
       "\n",
       "    .dataframe thead th {\n",
       "        text-align: right;\n",
       "    }\n",
       "</style>\n",
       "<table border=\"1\" class=\"dataframe\">\n",
       "  <thead>\n",
       "    <tr style=\"text-align: right;\">\n",
       "      <th></th>\n",
       "      <th>Sexo</th>\n",
       "      <th>Etnia/Cor</th>\n",
       "      <th>Pessoa com deficiência?</th>\n",
       "      <th>Tipo de escola no ensino médio</th>\n",
       "      <th>Renda familiar mensal bruta</th>\n",
       "      <th>Renda mensal bruta per capita</th>\n",
       "      <th>Nome do curso</th>\n",
       "      <th>Turno</th>\n",
       "      <th>Média nota Enem</th>\n",
       "      <th>Situação Inscrição Fies</th>\n",
       "    </tr>\n",
       "  </thead>\n",
       "  <tbody>\n",
       "    <tr>\n",
       "      <th>237959</th>\n",
       "      <td>Feminino</td>\n",
       "      <td>PARDA</td>\n",
       "      <td>NÃO</td>\n",
       "      <td>SIM</td>\n",
       "      <td>1150.00</td>\n",
       "      <td>383.33</td>\n",
       "      <td>ENGENHARIA DA COMPUTAÇÃO</td>\n",
       "      <td>NOTURNO</td>\n",
       "      <td>462.44</td>\n",
       "      <td>NÃO CONTRATADO</td>\n",
       "    </tr>\n",
       "    <tr>\n",
       "      <th>237960</th>\n",
       "      <td>Masculino</td>\n",
       "      <td>BRANCA</td>\n",
       "      <td>NÃO</td>\n",
       "      <td>SIM</td>\n",
       "      <td>1300.00</td>\n",
       "      <td>433.33</td>\n",
       "      <td>ENGENHARIA DA COMPUTAÇÃO</td>\n",
       "      <td>NOTURNO</td>\n",
       "      <td>570.60</td>\n",
       "      <td>NÃO CONTRATADO</td>\n",
       "    </tr>\n",
       "    <tr>\n",
       "      <th>237962</th>\n",
       "      <td>Masculino</td>\n",
       "      <td>BRANCA</td>\n",
       "      <td>NÃO</td>\n",
       "      <td>NÃO</td>\n",
       "      <td>5922.44</td>\n",
       "      <td>2961.22</td>\n",
       "      <td>ENGENHARIA DE PRODUÇÃO</td>\n",
       "      <td>NOTURNO</td>\n",
       "      <td>640.08</td>\n",
       "      <td>PRÉ-SELECIONADO</td>\n",
       "    </tr>\n",
       "    <tr>\n",
       "      <th>237963</th>\n",
       "      <td>Feminino</td>\n",
       "      <td>PARDA</td>\n",
       "      <td>NÃO</td>\n",
       "      <td>SIM</td>\n",
       "      <td>6517.59</td>\n",
       "      <td>1629.40</td>\n",
       "      <td>PSICOLOGIA</td>\n",
       "      <td>NOTURNO</td>\n",
       "      <td>535.16</td>\n",
       "      <td>PARTICIPACAO CANCELADA PELO CANDIDATO</td>\n",
       "    </tr>\n",
       "    <tr>\n",
       "      <th>237964</th>\n",
       "      <td>Feminino</td>\n",
       "      <td>PARDA</td>\n",
       "      <td>NÃO</td>\n",
       "      <td>SIM</td>\n",
       "      <td>1200.50</td>\n",
       "      <td>400.17</td>\n",
       "      <td>PEDAGOGIA</td>\n",
       "      <td>NOTURNO</td>\n",
       "      <td>549.94</td>\n",
       "      <td>PARTICIPACAO CANCELADA PELO CANDIDATO</td>\n",
       "    </tr>\n",
       "  </tbody>\n",
       "</table>\n",
       "</div>"
      ],
      "text/plain": [
       "             Sexo Etnia/Cor Pessoa com deficiência?  \\\n",
       "237959   Feminino     PARDA                     NÃO   \n",
       "237960  Masculino    BRANCA                     NÃO   \n",
       "237962  Masculino    BRANCA                     NÃO   \n",
       "237963   Feminino     PARDA                     NÃO   \n",
       "237964   Feminino     PARDA                     NÃO   \n",
       "\n",
       "       Tipo de escola no ensino médio  Renda familiar mensal bruta  \\\n",
       "237959                            SIM                      1150.00   \n",
       "237960                            SIM                      1300.00   \n",
       "237962                            NÃO                      5922.44   \n",
       "237963                            SIM                      6517.59   \n",
       "237964                            SIM                      1200.50   \n",
       "\n",
       "        Renda mensal bruta per capita             Nome do curso    Turno  \\\n",
       "237959                         383.33  ENGENHARIA DA COMPUTAÇÃO  NOTURNO   \n",
       "237960                         433.33  ENGENHARIA DA COMPUTAÇÃO  NOTURNO   \n",
       "237962                        2961.22    ENGENHARIA DE PRODUÇÃO  NOTURNO   \n",
       "237963                        1629.40                PSICOLOGIA  NOTURNO   \n",
       "237964                         400.17                 PEDAGOGIA  NOTURNO   \n",
       "\n",
       "        Média nota Enem                Situação Inscrição Fies  \n",
       "237959           462.44                         NÃO CONTRATADO  \n",
       "237960           570.60                         NÃO CONTRATADO  \n",
       "237962           640.08                        PRÉ-SELECIONADO  \n",
       "237963           535.16  PARTICIPACAO CANCELADA PELO CANDIDATO  \n",
       "237964           549.94  PARTICIPACAO CANCELADA PELO CANDIDATO  "
      ]
     },
     "metadata": {},
     "output_type": "display_data"
    }
   ],
   "source": [
    "display(dataset_clean.head())\n",
    "display(dataset_clean.tail())"
   ]
  },
  {
   "cell_type": "code",
   "execution_count": 184,
   "metadata": {},
   "outputs": [
    {
     "data": {
      "text/plain": [
       "Sexo                                  2\n",
       "Etnia/Cor                             5\n",
       "Pessoa com deficiência?               2\n",
       "Tipo de escola no ensino médio        3\n",
       "Renda familiar mensal bruta       25170\n",
       "Renda mensal bruta per capita     26555\n",
       "Nome do curso                       254\n",
       "Turno                                 4\n",
       "Média nota Enem                   16198\n",
       "Situação Inscrição Fies               8\n",
       "dtype: int64"
      ]
     },
     "execution_count": 184,
     "metadata": {},
     "output_type": "execute_result"
    }
   ],
   "source": [
    "dataset_clean.nunique()"
   ]
  },
  {
   "cell_type": "markdown",
   "metadata": {},
   "source": [
    "## Dados categóricos"
   ]
  },
  {
   "cell_type": "code",
   "execution_count": 185,
   "metadata": {},
   "outputs": [
    {
     "data": {
      "text/plain": [
       "<AxesSubplot:xlabel='Sexo', ylabel='Total de inscritos'>"
      ]
     },
     "execution_count": 185,
     "metadata": {},
     "output_type": "execute_result"
    },
    {
     "data": {
      "image/png": "[encoded data removed]",
      "text/plain": [
       "<Figure size 432x288 with 1 Axes>"
      ]
     },
     "metadata": {
      "needs_background": "light"
     },
     "output_type": "display_data"
    }
   ],
   "source": [
    "sexo = dataset_clean['Sexo'].value_counts().reset_index()\n",
    "sexo.columns = ['Sexo', 'Total de inscritos']\n",
    "sns.barplot(data = sexo, x=sexo['Sexo'], y='Total de inscritos')"
   ]
  },
  {
   "cell_type": "code",
   "execution_count": 186,
   "metadata": {},
   "outputs": [
    {
     "data": {
      "text/plain": [
       "<AxesSubplot:xlabel='Etnia/Cor', ylabel='Total de inscritos'>"
      ]
     },
     "execution_count": 186,
     "metadata": {},
     "output_type": "execute_result"
    },
    {
     "data": {
      "image/png": "[encoded data removed]",
      "text/plain": [
       "<Figure size 432x288 with 1 Axes>"
      ]
     },
     "metadata": {
      "needs_background": "light"
     },
     "output_type": "display_data"
    }
   ],
   "source": [
    "etnia = dataset_clean['Etnia/Cor'].value_counts().reset_index()\n",
    "etnia.columns = ['Etnia/Cor', 'Total de inscritos']\n",
    "sns.barplot(data = etnia, x=etnia['Etnia/Cor'], y='Total de inscritos')"
   ]
  },
  {
   "cell_type": "code",
   "execution_count": 187,
   "metadata": {},
   "outputs": [
    {
     "data": {
      "text/plain": [
       "<AxesSubplot:xlabel='Pessoa com deficiência?', ylabel='Total de inscritos'>"
      ]
     },
     "execution_count": 187,
     "metadata": {},
     "output_type": "execute_result"
    },
    {
     "data": {
      "image/png": "[encoded data removed]",
      "text/plain": [
       "<Figure size 432x288 with 1 Axes>"
      ]
     },
     "metadata": {
      "needs_background": "light"
     },
     "output_type": "display_data"
    }
   ],
   "source": [
    "pessoa = dataset_clean['Pessoa com deficiência?'].value_counts().reset_index()\n",
    "pessoa.columns = ['Pessoa com deficiência?', 'Total de inscritos']\n",
    "sns.barplot(data = pessoa, x=pessoa['Pessoa com deficiência?'], y='Total de inscritos')"
   ]
  },
  {
   "cell_type": "code",
   "execution_count": 188,
   "metadata": {},
   "outputs": [
    {
     "data": {
      "image/png": "[encoded data removed]",
      "text/plain": [
       "<Figure size 432x288 with 1 Axes>"
      ]
     },
     "metadata": {
      "needs_background": "light"
     },
     "output_type": "display_data"
    }
   ],
   "source": [
    "cursos =dataset_clean['Nome do curso'].value_counts().reset_index()\n",
    "cursos.columns = ['Nome do curso', 'Total de inscritos']\n",
    "sns.barplot(data=cursos.sort_values('Total de inscritos', ascending=False)[0:5], x=cursos['Nome do curso'][0:5], y=cursos['Total de inscritos'])\n",
    "plt.xticks(rotation=45);\n"
   ]
  },
  {
   "cell_type": "markdown",
   "metadata": {},
   "source": [
    "Podemos notar que o curso de medicina é disparado a graduação mais procurada para financiamento estudantil."
   ]
  },
  {
   "cell_type": "code",
   "execution_count": 189,
   "metadata": {},
   "outputs": [
    {
     "data": {
      "text/plain": [
       "<AxesSubplot:xlabel='Turno', ylabel='Total de inscritos'>"
      ]
     },
     "execution_count": 189,
     "metadata": {},
     "output_type": "execute_result"
    },
    {
     "data": {
      "image/png": "[encoded data removed]",
      "text/plain": [
       "<Figure size 432x288 with 1 Axes>"
      ]
     },
     "metadata": {
      "needs_background": "light"
     },
     "output_type": "display_data"
    }
   ],
   "source": [
    "turno = dataset_clean['Turno'].value_counts().reset_index()\n",
    "turno.columns = ['Turno', 'Total de inscritos']\n",
    "sns.barplot(data = turno, x=turno['Turno'], y='Total de inscritos')"
   ]
  },
  {
   "cell_type": "markdown",
   "metadata": {},
   "source": [
    "## Dados numéricos"
   ]
  },
  {
   "cell_type": "markdown",
   "metadata": {},
   "source": [
    "1. Renda familiar mensal bruta: É a renda bruta total da familia por mês.\n",
    "2. Renda mensa bruta per capita: Renda familiar mensal bruta/N° de pessoas na familia \n",
    "\n",
    "O cálculo de renda familiar bruta per capita é o maior critério para seleção dos candidados aos programas de bolsas de estudo para o ensino superior ofertadas pelo governo federal.\n",
    "\n",
    "Para o FIES, por exemplo, o candidato precisa ter uma renda familiar bruta per capita até 1,5 do salário minímo para conseguir se candidatar ao financiamento com juros zero.\n",
    "\n",
    "E como funciona o cálculo?\n",
    "\n",
    "De forma simples, pega a renda bruta total da familia e divide pelo número de membros da família.\n",
    "\n",
    "Exemplo: A renda bruta do de um pai de família é 3 mil reais e junto com ele moram mais dois filhos, logo a renda familiar bruta per capita é igual mil reais por pessoa."
   ]
  },
  {
   "cell_type": "code",
   "execution_count": 190,
   "metadata": {},
   "outputs": [
    {
     "data": {
      "text/plain": [
       "Index(['Sexo', 'Etnia/Cor', 'Pessoa com deficiência?',\n",
       "       'Tipo de escola no ensino médio', 'Renda familiar mensal bruta',\n",
       "       'Renda mensal bruta per capita', 'Nome do curso', 'Turno',\n",
       "       'Média nota Enem', 'Situação Inscrição Fies'],\n",
       "      dtype='object')"
      ]
     },
     "execution_count": 190,
     "metadata": {},
     "output_type": "execute_result"
    }
   ],
   "source": [
    "dataset_clean.columns"
   ]
  },
  {
   "cell_type": "code",
   "execution_count": 191,
   "metadata": {},
   "outputs": [
    {
     "data": {
      "image/png": "[encoded data removed]",
      "text/plain": [
       "<Figure size 1080x360 with 6 Axes>"
      ]
     },
     "metadata": {
      "needs_background": "light"
     },
     "output_type": "display_data"
    }
   ],
   "source": [
    "fig,axes = plt.subplots(2,3,figsize=(15,5))\n",
    "sns.histplot(ax=axes[0][0],data=dataset_clean, x='Renda familiar mensal bruta',bins=20)\n",
    "sns.violinplot(ax=axes[0][1],y=dataset_clean['Renda familiar mensal bruta'])\n",
    "sns.boxplot(ax=axes[0][2], y=dataset_clean['Renda familiar mensal bruta'])\n",
    "\n",
    "sns.histplot(ax=axes[1][0],data=dataset_clean, x='Renda mensal bruta per capita',bins=20)\n",
    "sns.violinplot(ax=axes[1][1],y=dataset_clean['Renda mensal bruta per capita'])\n",
    "sns.boxplot(ax=axes[1][2], y=dataset_clean['Renda mensal bruta per capita'])\n",
    "\n",
    "\n",
    "plt.tight_layout()\n"
   ]
  },
  {
   "cell_type": "markdown",
   "metadata": {},
   "source": [
    "Podemos notar que tanto da **Renda familiar mensal bruta** quanto da **Renda mensal bruta per capita** possuem distribuções assimétricas positivas, ou seja, apesar de termos valores discrepantes de Renda ainda sim temos uma maior concentração de inscritos que possuem:\n",
    "\n",
    "- **Renda familiar mensal bruta** na faixa de 0 e 4 mil reais.\n",
    "\n",
    "- **Renda mensal bruta per capita** na faixa 0 a 1500 reais.\n",
    "\n",
    "E por ter uma assimetria positiva mediana < média"
   ]
  },
  {
   "cell_type": "code",
   "execution_count": 192,
   "metadata": {},
   "outputs": [
    {
     "data": {
      "text/html": [
       "<div>\n",
       "<style scoped>\n",
       "    .dataframe tbody tr th:only-of-type {\n",
       "        vertical-align: middle;\n",
       "    }\n",
       "\n",
       "    .dataframe tbody tr th {\n",
       "        vertical-align: top;\n",
       "    }\n",
       "\n",
       "    .dataframe thead th {\n",
       "        text-align: right;\n",
       "    }\n",
       "</style>\n",
       "<table border=\"1\" class=\"dataframe\">\n",
       "  <thead>\n",
       "    <tr style=\"text-align: right;\">\n",
       "      <th></th>\n",
       "      <th>count</th>\n",
       "      <th>mean</th>\n",
       "      <th>std</th>\n",
       "      <th>min</th>\n",
       "      <th>25%</th>\n",
       "      <th>50%</th>\n",
       "      <th>75%</th>\n",
       "      <th>max</th>\n",
       "    </tr>\n",
       "  </thead>\n",
       "  <tbody>\n",
       "    <tr>\n",
       "      <th>Renda familiar mensal bruta</th>\n",
       "      <td>207690.0</td>\n",
       "      <td>3194.675817</td>\n",
       "      <td>2476.989048</td>\n",
       "      <td>0.0</td>\n",
       "      <td>1500.0</td>\n",
       "      <td>2400.0</td>\n",
       "      <td>3900.00</td>\n",
       "      <td>37461.46</td>\n",
       "    </tr>\n",
       "    <tr>\n",
       "      <th>Renda mensal bruta per capita</th>\n",
       "      <td>207690.0</td>\n",
       "      <td>1042.332877</td>\n",
       "      <td>668.563330</td>\n",
       "      <td>0.0</td>\n",
       "      <td>550.0</td>\n",
       "      <td>850.0</td>\n",
       "      <td>1333.33</td>\n",
       "      <td>6000.19</td>\n",
       "    </tr>\n",
       "  </tbody>\n",
       "</table>\n",
       "</div>"
      ],
      "text/plain": [
       "                                  count         mean          std  min  \\\n",
       "Renda familiar mensal bruta    207690.0  3194.675817  2476.989048  0.0   \n",
       "Renda mensal bruta per capita  207690.0  1042.332877   668.563330  0.0   \n",
       "\n",
       "                                  25%     50%      75%       max  \n",
       "Renda familiar mensal bruta    1500.0  2400.0  3900.00  37461.46  \n",
       "Renda mensal bruta per capita   550.0   850.0  1333.33   6000.19  "
      ]
     },
     "execution_count": 192,
     "metadata": {},
     "output_type": "execute_result"
    }
   ],
   "source": [
    "dataset_clean[['Renda familiar mensal bruta','Renda mensal bruta per capita']].describe().T"
   ]
  },
  {
   "cell_type": "markdown",
   "metadata": {},
   "source": [
    "Agora, podemos confirmar que para:\n",
    "\n",
    "1. **Renda familiar mensal bruta** 50% dos dados estão abaixo de R$ 2400,0 e 50% estão acima\n",
    "2. **Renda mensal bruta per capita** 50% dos dados estão abaixo de 850,0 e 50% estão acima"
   ]
  },
  {
   "cell_type": "code",
   "execution_count": 193,
   "metadata": {},
   "outputs": [
    {
     "data": {
      "image/png": "[encoded data removed]",
      "text/plain": [
       "<Figure size 1080x360 with 3 Axes>"
      ]
     },
     "metadata": {
      "needs_background": "light"
     },
     "output_type": "display_data"
    }
   ],
   "source": [
    "fig,axes = plt.subplots(1,3,figsize=(15,5))\n",
    "sns.histplot(ax=axes[0],data=dataset_clean, x='Média nota Enem',bins=20)\n",
    "sns.violinplot(ax=axes[1],y=dataset_clean['Média nota Enem'])\n",
    "sns.boxplot(ax=axes[2], y=dataset_clean['Média nota Enem'])\n",
    "plt.tight_layout()"
   ]
  },
  {
   "cell_type": "markdown",
   "metadata": {},
   "source": [
    "As notas do enem também aprensentam uma mediana menor que a média, resultando também em uma assimetria positiva com uma concentração maior das médias de notas do ENEM em torno de 500 - 550 pontos.\n",
    "\n",
    "Muito poucas pessoas que solicitam a inscrição do FIES possuem a média de nota do ENEM acima de 750 pontos."
   ]
  },
  {
   "cell_type": "code",
   "execution_count": 194,
   "metadata": {},
   "outputs": [
    {
     "name": "stderr",
     "output_type": "stream",
     "text": [
      "C:\\Users\\nrodr\\AppData\\Local\\Temp\\ipykernel_11700\\3964459367.py:2: SettingWithCopyWarning: \n",
      "A value is trying to be set on a copy of a slice from a DataFrame.\n",
      "Try using .loc[row_indexer,col_indexer] = value instead\n",
      "\n",
      "See the caveats in the documentation: https://pandas.pydata.org/pandas-docs/stable/user_guide/indexing.html#returning-a-view-versus-a-copy\n",
      "  dataset_clean['Salário minímo mensal bruta per capita'] = dataset_clean['Renda mensal bruta per capita'].apply(lambda x: x/salario_minimo_2021);\n"
     ]
    }
   ],
   "source": [
    "salario_minimo_2021 = 1212\n",
    "dataset_clean['Salário minímo mensal bruta per capita'] = dataset_clean['Renda mensal bruta per capita'].apply(lambda x: x/salario_minimo_2021);"
   ]
  },
  {
   "cell_type": "markdown",
   "metadata": {},
   "source": [
    "Como o parâmetro para conseguir o FIES é de até 1,5 salário minímo bruto per capita, o código acima foi necessário para criar uma nova coluna no meu data set e assim atribuindo a ela o cálculo realizado.\n",
    "\n",
    "A função apply serve para quando queremos aplicar uma função em uma determinada coluna, que no nosso caso é a feature *Renda mensal bruta per capita*, e a função anônima lambda realiza o cálculo necessário em cada linha dessa coluna com base no [salário minímo de 2021](https://www.camara.leg.br/noticias/842657-medida-provisoria-estabelece-salario-minimo-de-r-1-212-novo-valor-ja-esta-em-vigor/#:~:text=Come%C3%A7ou%20a%20valer%20no%20s%C3%A1bado,assinada%20pelo%20presidente%20Jair%20Bolsonaro.), retornando como resultado o salário minímo per capita de cada pessoa que realizoua  inscrição no FIES em 2021."
   ]
  },
  {
   "cell_type": "code",
   "execution_count": 195,
   "metadata": {},
   "outputs": [
    {
     "data": {
      "text/html": [
       "<div>\n",
       "<style scoped>\n",
       "    .dataframe tbody tr th:only-of-type {\n",
       "        vertical-align: middle;\n",
       "    }\n",
       "\n",
       "    .dataframe tbody tr th {\n",
       "        vertical-align: top;\n",
       "    }\n",
       "\n",
       "    .dataframe thead th {\n",
       "        text-align: right;\n",
       "    }\n",
       "</style>\n",
       "<table border=\"1\" class=\"dataframe\">\n",
       "  <thead>\n",
       "    <tr style=\"text-align: right;\">\n",
       "      <th></th>\n",
       "      <th>Sexo</th>\n",
       "      <th>Etnia/Cor</th>\n",
       "      <th>Pessoa com deficiência?</th>\n",
       "      <th>Tipo de escola no ensino médio</th>\n",
       "      <th>Renda familiar mensal bruta</th>\n",
       "      <th>Renda mensal bruta per capita</th>\n",
       "      <th>Nome do curso</th>\n",
       "      <th>Turno</th>\n",
       "      <th>Média nota Enem</th>\n",
       "      <th>Situação Inscrição Fies</th>\n",
       "      <th>Salário minímo mensal bruta per capita</th>\n",
       "    </tr>\n",
       "  </thead>\n",
       "  <tbody>\n",
       "    <tr>\n",
       "      <th>0</th>\n",
       "      <td>Masculino</td>\n",
       "      <td>PARDA</td>\n",
       "      <td>NÃO</td>\n",
       "      <td>SIM</td>\n",
       "      <td>4253.03</td>\n",
       "      <td>1417.68</td>\n",
       "      <td>DIREITO</td>\n",
       "      <td>NOTURNO</td>\n",
       "      <td>624.10</td>\n",
       "      <td>NÃO CONTRATADO</td>\n",
       "      <td>1.169703</td>\n",
       "    </tr>\n",
       "    <tr>\n",
       "      <th>1</th>\n",
       "      <td>Masculino</td>\n",
       "      <td>PARDA</td>\n",
       "      <td>NÃO</td>\n",
       "      <td>SIM</td>\n",
       "      <td>4253.03</td>\n",
       "      <td>1417.68</td>\n",
       "      <td>DIREITO</td>\n",
       "      <td>MATUTINO</td>\n",
       "      <td>624.10</td>\n",
       "      <td>NÃO CONTRATADO</td>\n",
       "      <td>1.169703</td>\n",
       "    </tr>\n",
       "    <tr>\n",
       "      <th>3</th>\n",
       "      <td>Masculino</td>\n",
       "      <td>BRANCA</td>\n",
       "      <td>NÃO</td>\n",
       "      <td>SIM</td>\n",
       "      <td>1574.07</td>\n",
       "      <td>787.04</td>\n",
       "      <td>DIREITO</td>\n",
       "      <td>MATUTINO</td>\n",
       "      <td>598.54</td>\n",
       "      <td>OPÇÃO NÃO CONTRATADA</td>\n",
       "      <td>0.649373</td>\n",
       "    </tr>\n",
       "    <tr>\n",
       "      <th>4</th>\n",
       "      <td>Feminino</td>\n",
       "      <td>BRANCA</td>\n",
       "      <td>NÃO</td>\n",
       "      <td>SIM</td>\n",
       "      <td>2500.00</td>\n",
       "      <td>833.33</td>\n",
       "      <td>DIREITO</td>\n",
       "      <td>NOTURNO</td>\n",
       "      <td>512.16</td>\n",
       "      <td>NÃO CONTRATADO</td>\n",
       "      <td>0.687566</td>\n",
       "    </tr>\n",
       "    <tr>\n",
       "      <th>5</th>\n",
       "      <td>Feminino</td>\n",
       "      <td>BRANCA</td>\n",
       "      <td>NÃO</td>\n",
       "      <td>SIM</td>\n",
       "      <td>2500.00</td>\n",
       "      <td>833.33</td>\n",
       "      <td>DIREITO</td>\n",
       "      <td>MATUTINO</td>\n",
       "      <td>512.16</td>\n",
       "      <td>NÃO CONTRATADO</td>\n",
       "      <td>0.687566</td>\n",
       "    </tr>\n",
       "  </tbody>\n",
       "</table>\n",
       "</div>"
      ],
      "text/plain": [
       "        Sexo Etnia/Cor Pessoa com deficiência? Tipo de escola no ensino médio  \\\n",
       "0  Masculino     PARDA                     NÃO                            SIM   \n",
       "1  Masculino     PARDA                     NÃO                            SIM   \n",
       "3  Masculino    BRANCA                     NÃO                            SIM   \n",
       "4   Feminino    BRANCA                     NÃO                            SIM   \n",
       "5   Feminino    BRANCA                     NÃO                            SIM   \n",
       "\n",
       "   Renda familiar mensal bruta  Renda mensal bruta per capita Nome do curso  \\\n",
       "0                      4253.03                        1417.68       DIREITO   \n",
       "1                      4253.03                        1417.68       DIREITO   \n",
       "3                      1574.07                         787.04       DIREITO   \n",
       "4                      2500.00                         833.33       DIREITO   \n",
       "5                      2500.00                         833.33       DIREITO   \n",
       "\n",
       "      Turno  Média nota Enem Situação Inscrição Fies  \\\n",
       "0   NOTURNO           624.10          NÃO CONTRATADO   \n",
       "1  MATUTINO           624.10          NÃO CONTRATADO   \n",
       "3  MATUTINO           598.54    OPÇÃO NÃO CONTRATADA   \n",
       "4   NOTURNO           512.16          NÃO CONTRATADO   \n",
       "5  MATUTINO           512.16          NÃO CONTRATADO   \n",
       "\n",
       "   Salário minímo mensal bruta per capita  \n",
       "0                                1.169703  \n",
       "1                                1.169703  \n",
       "3                                0.649373  \n",
       "4                                0.687566  \n",
       "5                                0.687566  "
      ]
     },
     "execution_count": 195,
     "metadata": {},
     "output_type": "execute_result"
    }
   ],
   "source": [
    "dataset_clean.head()"
   ]
  },
  {
   "cell_type": "markdown",
   "metadata": {},
   "source": [
    "### E como será a distribuição de renda bruta per capita de acordo com o Sexo da pessoa?"
   ]
  },
  {
   "cell_type": "code",
   "execution_count": 196,
   "metadata": {},
   "outputs": [
    {
     "data": {
      "text/plain": [
       "<AxesSubplot:xlabel='Média nota Enem', ylabel='Proportion'>"
      ]
     },
     "execution_count": 196,
     "metadata": {},
     "output_type": "execute_result"
    },
    {
     "data": {
      "image/png": "[encoded data removed]",
      "text/plain": [
       "<Figure size 1080x360 with 3 Axes>"
      ]
     },
     "metadata": {
      "needs_background": "light"
     },
     "output_type": "display_data"
    }
   ],
   "source": [
    "fig,axes = plt.subplots(1,3,figsize=(15,5))\n",
    "sns.ecdfplot(ax=axes[0],data=dataset_clean, x=\"Renda mensal bruta per capita\", hue=\"Sexo\")\n",
    "sns.ecdfplot(ax=axes[1],data=dataset_clean, x=\"Salário minímo mensal bruta per capita\", hue=\"Sexo\")\n",
    "sns.ecdfplot(ax=axes[2],data=dataset_clean, x=\"Média nota Enem\", hue=\"Sexo\")\n"
   ]
  },
  {
   "cell_type": "markdown",
   "metadata": {},
   "source": [
    "### E a distribuição de nota e renda de acordo com a Etnia/Cor do candidato?"
   ]
  },
  {
   "cell_type": "code",
   "execution_count": 197,
   "metadata": {},
   "outputs": [
    {
     "data": {
      "text/plain": [
       "<AxesSubplot:xlabel='Média nota Enem', ylabel='Proportion'>"
      ]
     },
     "execution_count": 197,
     "metadata": {},
     "output_type": "execute_result"
    },
    {
     "data": {
      "image/png": "[encoded data removed]",
      "text/plain": [
       "<Figure size 1080x360 with 3 Axes>"
      ]
     },
     "metadata": {
      "needs_background": "light"
     },
     "output_type": "display_data"
    }
   ],
   "source": [
    "fig,axes = plt.subplots(1,3,figsize=(15,5))\n",
    "sns.ecdfplot(ax=axes[0],data=dataset_clean, x=\"Renda mensal bruta per capita\", hue=\"Etnia/Cor\")\n",
    "sns.ecdfplot(ax=axes[1],data=dataset_clean, x=\"Salário minímo mensal bruta per capita\", hue=\"Etnia/Cor\")\n",
    "sns.ecdfplot(ax=axes[2],data=dataset_clean, x=\"Média nota Enem\", hue=\"Etnia/Cor\")\n"
   ]
  },
  {
   "cell_type": "code",
   "execution_count": 198,
   "metadata": {},
   "outputs": [
    {
     "data": {
      "text/plain": [
       "<seaborn.axisgrid.FacetGrid at 0x21b204fbaf0>"
      ]
     },
     "execution_count": 198,
     "metadata": {},
     "output_type": "execute_result"
    },
    {
     "data": {
      "image/png": "[encoded data removed]",
      "text/plain": [
       "<Figure size 360x360 with 1 Axes>"
      ]
     },
     "metadata": {
      "needs_background": "light"
     },
     "output_type": "display_data"
    }
   ],
   "source": [
    "sns.displot(data=dataset_clean, x='Salário minímo mensal bruta per capita', kind='ecdf')"
   ]
  },
  {
   "cell_type": "markdown",
   "metadata": {},
   "source": [
    "Podemos notar que em torno de 86% possuem renda familiar bruta per capita de até 1.5 salário minímo, e assim, se enquadrando no critério para conseguir o financiamento estudantil."
   ]
  },
  {
   "cell_type": "markdown",
   "metadata": {},
   "source": [
    "### E dos elegíveis para o financiamento com juros zero, qual a proporção de contratos realizados?"
   ]
  },
  {
   "cell_type": "code",
   "execution_count": 222,
   "metadata": {},
   "outputs": [
    {
     "name": "stdout",
     "output_type": "stream",
     "text": [
      "A porcentagem de canditados elegíveis para o programa e que realmente contrataram o serviço é 10.79%\n"
     ]
    }
   ],
   "source": [
    "elegivel = dataset_clean.loc[dataset_clean['Salário minímo mensal bruta per capita'] <= 1.5]\n",
    "contratada =(elegivel.loc[elegivel['Situação Inscrição Fies'] == 'CONTRATADA'].shape[0]/elegivel.shape[0])*100\n",
    "print(f'A porcentagem de canditados elegíveis para o programa e que realmente contrataram o serviço é {contratada:.2f}%')"
   ]
  },
  {
   "cell_type": "markdown",
   "metadata": {},
   "source": [
    "# Qua a porcentagem de contratos fechados de acordo com etnia/cor e sexo?"
   ]
  },
  {
   "cell_type": "code",
   "execution_count": 228,
   "metadata": {},
   "outputs": [],
   "source": [
    "contrato_fechado = elegivel.loc[elegivel['Situação Inscrição Fies'] == 'CONTRATADA']"
   ]
  },
  {
   "cell_type": "code",
   "execution_count": 234,
   "metadata": {},
   "outputs": [],
   "source": [
    "masc = (contrato_fechado.loc[contrato_fechado['Sexo'] == 'Masculino'].shape[0]/contrato_fechado.shape[0])*100\n",
    "fem = (contrato_fechado.loc[contrato_fechado['Sexo'] == 'Feminino'].shape[0]/contrato_fechado.shape[0])*100"
   ]
  },
  {
   "cell_type": "code",
   "execution_count": 245,
   "metadata": {},
   "outputs": [
    {
     "data": {
      "text/html": [
       "<div>\n",
       "<style scoped>\n",
       "    .dataframe tbody tr th:only-of-type {\n",
       "        vertical-align: middle;\n",
       "    }\n",
       "\n",
       "    .dataframe tbody tr th {\n",
       "        vertical-align: top;\n",
       "    }\n",
       "\n",
       "    .dataframe thead th {\n",
       "        text-align: right;\n",
       "    }\n",
       "</style>\n",
       "<table border=\"1\" class=\"dataframe\">\n",
       "  <thead>\n",
       "    <tr style=\"text-align: right;\">\n",
       "      <th></th>\n",
       "      <th>Nome do Curso</th>\n",
       "      <th>Total</th>\n",
       "    </tr>\n",
       "  </thead>\n",
       "  <tbody>\n",
       "    <tr>\n",
       "      <th>84</th>\n",
       "      <td>ODONTOLOGIA</td>\n",
       "      <td>2497</td>\n",
       "    </tr>\n",
       "    <tr>\n",
       "      <th>35</th>\n",
       "      <td>DIREITO</td>\n",
       "      <td>2427</td>\n",
       "    </tr>\n",
       "    <tr>\n",
       "      <th>37</th>\n",
       "      <td>ENFERMAGEM</td>\n",
       "      <td>2067</td>\n",
       "    </tr>\n",
       "    <tr>\n",
       "      <th>91</th>\n",
       "      <td>PSICOLOGIA</td>\n",
       "      <td>1385</td>\n",
       "    </tr>\n",
       "    <tr>\n",
       "      <th>60</th>\n",
       "      <td>FISIOTERAPIA</td>\n",
       "      <td>1002</td>\n",
       "    </tr>\n",
       "  </tbody>\n",
       "</table>\n",
       "</div>"
      ],
      "text/plain": [
       "   Nome do Curso  Total\n",
       "84   ODONTOLOGIA   2497\n",
       "35       DIREITO   2427\n",
       "37    ENFERMAGEM   2067\n",
       "91    PSICOLOGIA   1385\n",
       "60  FISIOTERAPIA   1002"
      ]
     },
     "execution_count": 245,
     "metadata": {},
     "output_type": "execute_result"
    }
   ],
   "source": [
    "mulheres = contrato_fechado.loc[contrato_fechado['Sexo'] == 'Feminino']\n",
    "preferencia_fem = mulheres.groupby('Nome do curso').size().reset_index()\n",
    "preferencia_fem.columns = ['Nome do Curso', 'Total']\n",
    "preferencia_fem.sort_values('Total', ascending=False)[0:5]"
   ]
  },
  {
   "cell_type": "code",
   "execution_count": 235,
   "metadata": {},
   "outputs": [
    {
     "name": "stdout",
     "output_type": "stream",
     "text": [
      "Das 87% pessoas elegíveis para o programa, e 10.79% que realmente contrataram o serviço, 70.69% são mulheres e 29.31% são homens\n"
     ]
    }
   ],
   "source": [
    "print(f'Das 87% pessoas elegíveis para o programa, e {contratada:.2f}% que realmente contrataram o serviço, {fem:.2f}% são mulheres e {masc:.2f}% são homens')"
   ]
  },
  {
   "cell_type": "markdown",
   "metadata": {},
   "source": [
    "# Conclusões\n"
   ]
  },
  {
   "cell_type": "markdown",
   "metadata": {},
   "source": [
    "- Apesar de 87% das pessoas serem elegíveis para o programa, apenas 10,79% realmente realizam o contrato do Financiamento. Um das possibilidades para isso ocorrer é o valor da parcela do financiamento já que a mediana da renda bruta per capita por pessoa da familia é R$850,0 e maior procura dos candidados disparadamento são os cursos de Medicina, que costumam ter uma mensalidade alta. \n",
    "\n",
    "- Notamos também que há uma procura muito maior por parte das mulheres pelo Financiamento estudantil, e representam 70,79% dos candidados que realmente fecharam o contrato do financiamento. \n",
    "\n",
    "- Os cursos de Odontologia, Direito, Enfermagem, Psicologia e Fisioterapia são os cursos com maior número de financiamentos realizados pelas mulheres.\n",
    "\n",
    "- Pessoa com Etnia/Cor branca tem as maiores médias de nota do Enem e as maiores rendas entre os inscritos para o FIES no ano de 2021"
   ]
  }
 ],
 "metadata": {
  "interpreter": {
   "hash": "fe4d2ea52e2ecf7e5fefa2761c4b3c04114ecac6c508d93b1e97cd5b221d111e"
  },
  "kernelspec": {
   "display_name": "fies_AED",
   "language": "python",
   "name": "fies_aed"
  },
  "language_info": {
   "codemirror_mode": {
    "name": "ipython",
    "version": 3
   },
   "file_extension": ".py",
   "mimetype": "text/x-python",
   "name": "python",
   "nbconvert_exporter": "python",
   "pygments_lexer": "ipython3",
   "version": "3.9.12"
  },
  "orig_nbformat": 4
 },
 "nbformat": 4,
 "nbformat_minor": 2
}
