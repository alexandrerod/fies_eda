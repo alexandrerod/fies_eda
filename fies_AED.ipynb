{
 "cells": [
  {
   "cell_type": "markdown",
   "metadata": {},
   "source": [
    "# Análise de dados - FIES\n",
    "*by: Alexandre Rodrigues* "
   ]
  },
  {
   "cell_type": "markdown",
   "metadata": {},
   "source": [
    "O [Fundo de Financiamento Estudantil (FIES)](https://sisfiesportal.mec.gov.br/) é um projeto criado pelo governo federal em meados de 1999 como um programa vinculado ao Ministério da Educação (MEC). \n",
    "\n",
    "O intuito do programa é viabilizar o ingresso ao ensino superior através do financiamento da graduação para os estudantes que não tem condições de pagar as mensalidades de faculdades privadas.\n",
    "\n",
    "Como se trata de um programa que fornece um financiamento estudantil, ao final do curso, o estudante que obteve o benefício deve pagar a dívida.\n",
    "\n",
    "<center><img alt=\"Analisando FIES\" width=\"50%\" src=\"fies.png\"></center>"
   ]
  },
  {
   "cell_type": "markdown",
   "metadata": {},
   "source": [
    "## Análise Exploratória de Dados (AED)"
   ]
  },
  {
   "cell_type": "markdown",
   "metadata": {},
   "source": [
    "`1. Data Source:` Destinada ao carregamento dos dados e carregamento das bibliotecas que serão utilizadas.\n",
    "\n",
    "`2. Data Cleaning:` Aqui será realizado o tratamento dos dados, verificação de outlier, dados nulos, corrigindo formatos, etc.\n",
    "\n",
    "`3. Análise de dados demográficos: ` Análise dos dados demográficos com intuito de entender o perfil de quem solicita o financiamento estudantil(FIES).\n",
    "\n",
    "`4. Conclusão: `"
   ]
  },
  {
   "cell_type": "markdown",
   "metadata": {},
   "source": [
    "## Fonte dos dados\n",
    "http://dadosabertos.mec.gov.br/fies/item/148-2021-relatorio-fies-inscricoes-2-2021"
   ]
  },
  {
   "cell_type": "markdown",
   "metadata": {},
   "source": [
    "# Data Source"
   ]
  },
  {
   "cell_type": "code",
   "execution_count": 95,
   "metadata": {},
   "outputs": [],
   "source": [
    "#carregando as bibliotecas\n",
    "import pandas as pd\n",
    "import numpy as np\n",
    "\n",
    "import matplotlib.pyplot as plt\n",
    "import seaborn as sns\n",
    "\n"
   ]
  },
  {
   "cell_type": "code",
   "execution_count": 96,
   "metadata": {},
   "outputs": [],
   "source": [
    "fies = pd.read_csv('relatorio_inscricao_dados_abertos_fies_22021.csv',sep=';', encoding='latin-1')"
   ]
  },
  {
   "cell_type": "code",
   "execution_count": 97,
   "metadata": {},
   "outputs": [
    {
     "name": "stdout",
     "output_type": "stream",
     "text": [
      "<class 'pandas.core.frame.DataFrame'>\n",
      "RangeIndex: 237965 entries, 0 to 237964\n",
      "Data columns (total 57 columns):\n",
      " #   Column                          Non-Null Count   Dtype  \n",
      "---  ------                          --------------   -----  \n",
      " 0   Ano do processo seletivo        237965 non-null  int64  \n",
      " 1   Semestre do processo seletivo   237965 non-null  int64  \n",
      " 2   ID do estudante                 237965 non-null  int64  \n",
      " 3   Sexo                            237965 non-null  object \n",
      " 4   Data de Nascimento              237965 non-null  object \n",
      " 5   UF de residência                237965 non-null  object \n",
      " 6   Municipio de residência         237965 non-null  object \n",
      " 7   Etnia/Cor                       237965 non-null  object \n",
      " 8   Pessoa com deficiência?         237965 non-null  object \n",
      " 9   Tipo de escola no ensino médio  237965 non-null  object \n",
      " 10  Ano conclusão ensino médio      237965 non-null  int64  \n",
      " 11  Concluiu curso superior?        237965 non-null  object \n",
      " 12  Professor rede pública ensino?  237965 non-null  object \n",
      " 13  Nº de membros Grupo Familiar    237965 non-null  int64  \n",
      " 14  Renda familiar mensal bruta     207690 non-null  object \n",
      " 15  Renda mensal bruta per capita   237965 non-null  object \n",
      " 16  Região grupo de preferência     237965 non-null  object \n",
      " 17  UF                              237965 non-null  object \n",
      " 18  Cod.Microrregião                237965 non-null  int64  \n",
      " 19  Microrregião                    237965 non-null  object \n",
      " 20  Cod.Mesorregião                 237965 non-null  int64  \n",
      " 21  Mesorregião                     237965 non-null  object \n",
      " 22  Conceito de curso do GP         237965 non-null  object \n",
      " 23  Área do conhecimento            237965 non-null  object \n",
      " 24  Subárea do conhecimento         237965 non-null  object \n",
      " 25  Cod. do Grupo de preferência    237965 non-null  int64  \n",
      " 26  Nota Corte Grupo Preferência    237965 non-null  object \n",
      " 27  Opções de cursos da inscrição   237965 non-null  int64  \n",
      " 28  Nome mantenedora                237965 non-null  object \n",
      " 29  Natureza Jurídica Mantenedora   237965 non-null  object \n",
      " 30  CNPJ da mantenedora             237965 non-null  int64  \n",
      " 31  Código e-MEC da Mantenedora     237965 non-null  int64  \n",
      " 32  Nome da IES                     237965 non-null  object \n",
      " 33  Código e-MEC da IES             237965 non-null  int64  \n",
      " 34  Organização Acadêmica da IES    237965 non-null  object \n",
      " 35  Município da IES                237965 non-null  object \n",
      " 36  UF da IES                       237965 non-null  object \n",
      " 37  Nome do Local de oferta         237965 non-null  object \n",
      " 38  Código do Local de Oferta       237965 non-null  int64  \n",
      " 39  Munícipio do Local de Oferta    237965 non-null  object \n",
      " 40  UF do Local de Oferta           237965 non-null  object \n",
      " 41  Código do curso                 237965 non-null  int64  \n",
      " 42  Nome do curso                   237965 non-null  object \n",
      " 43  Turno                           237965 non-null  object \n",
      " 44  Grau                            237965 non-null  object \n",
      " 45  Conceito                        237965 non-null  object \n",
      " 46  Média nota Enem                 237965 non-null  object \n",
      " 47  Ano do Enem                     237965 non-null  int64  \n",
      " 48  Redação                         237965 non-null  int64  \n",
      " 49  Matemática e suas Tecnologias   237965 non-null  object \n",
      " 50  Linguagens, Códigos e suas Tec  237965 non-null  object \n",
      " 51  Ciências Natureza e suas Tec    237965 non-null  object \n",
      " 52  Ciências Humanas e suas Tec     237965 non-null  object \n",
      " 53  Situação Inscrição Fies         237965 non-null  object \n",
      " 54  Percentual de financiamento     22443 non-null   object \n",
      " 55  Semestre do financiamento       207900 non-null  object \n",
      " 56  Qtde semestre financiado        52508 non-null   float64\n",
      "dtypes: float64(1), int64(16), object(40)\n",
      "memory usage: 103.5+ MB\n"
     ]
    }
   ],
   "source": [
    "fies.info()"
   ]
  },
  {
   "cell_type": "code",
   "execution_count": 98,
   "metadata": {},
   "outputs": [
    {
     "name": "stdout",
     "output_type": "stream",
     "text": [
      "O número de linhas do dataset é 237965.\n",
      "O data set contém 57 colunas.\n"
     ]
    }
   ],
   "source": [
    "print(f'O número de linhas do dataset é {fies.shape[0]}.')\n",
    "print(f'O data set contém {fies.shape[1]} colunas.')"
   ]
  },
  {
   "cell_type": "code",
   "execution_count": 99,
   "metadata": {},
   "outputs": [
    {
     "data": {
      "text/plain": [
       "Index(['Ano do processo seletivo', 'Semestre do processo seletivo',\n",
       "       'ID do estudante', 'Sexo', 'Data de Nascimento', 'UF de residência',\n",
       "       'Municipio de residência', 'Etnia/Cor', 'Pessoa com deficiência?',\n",
       "       'Tipo de escola no ensino médio', 'Ano conclusão ensino médio',\n",
       "       'Concluiu curso superior?', 'Professor rede pública ensino?',\n",
       "       'Nº de membros Grupo Familiar', 'Renda familiar mensal bruta',\n",
       "       'Renda mensal bruta per capita', 'Região grupo de preferência', 'UF',\n",
       "       'Cod.Microrregião', 'Microrregião', 'Cod.Mesorregião', 'Mesorregião',\n",
       "       'Conceito de curso do GP', 'Área do conhecimento',\n",
       "       'Subárea do conhecimento', 'Cod. do Grupo de preferência',\n",
       "       'Nota Corte Grupo Preferência', 'Opções de cursos da inscrição',\n",
       "       'Nome mantenedora', 'Natureza Jurídica Mantenedora',\n",
       "       'CNPJ da mantenedora', 'Código e-MEC da Mantenedora', 'Nome da IES',\n",
       "       'Código e-MEC da IES', 'Organização Acadêmica da IES',\n",
       "       'Município da IES', 'UF da IES', 'Nome do Local de oferta',\n",
       "       'Código do Local de Oferta', 'Munícipio do Local de Oferta',\n",
       "       'UF do Local de Oferta', 'Código do curso', 'Nome do curso', 'Turno',\n",
       "       'Grau', 'Conceito', 'Média nota Enem', 'Ano do Enem', 'Redação',\n",
       "       'Matemática e suas Tecnologias', 'Linguagens, Códigos e suas Tec',\n",
       "       'Ciências Natureza e suas Tec', 'Ciências Humanas e suas Tec',\n",
       "       'Situação Inscrição Fies', 'Percentual de financiamento',\n",
       "       'Semestre do financiamento', 'Qtde semestre financiado'],\n",
       "      dtype='object')"
      ]
     },
     "execution_count": 99,
     "metadata": {},
     "output_type": "execute_result"
    }
   ],
   "source": [
    "fies.columns"
   ]
  },
  {
   "cell_type": "code",
   "execution_count": 100,
   "metadata": {},
   "outputs": [],
   "source": [
    "dataset = fies[['Sexo', 'Etnia/Cor','Pessoa com deficiência?', 'Tipo de escola no ensino médio', 'Renda familiar mensal bruta', 'Renda mensal bruta per capita', 'Nome do curso', 'Turno', 'Média nota Enem']]"
   ]
  },
  {
   "cell_type": "markdown",
   "metadata": {},
   "source": [
    "Como vou querer realisar uma análise demográfica, é melhor eu filtrar as colunas que tenho maior interesse."
   ]
  },
  {
   "cell_type": "code",
   "execution_count": 101,
   "metadata": {},
   "outputs": [
    {
     "name": "stdout",
     "output_type": "stream",
     "text": [
      "Após o filtro o número de linhas é 237965.\n",
      "Após o filtro o número de colunas é 9.\n"
     ]
    }
   ],
   "source": [
    "print(f'Após o filtro o número de linhas é {dataset.shape[0]}.')\n",
    "print(f'Após o filtro o número de colunas é {dataset.shape[1]}.')"
   ]
  },
  {
   "cell_type": "code",
   "execution_count": 102,
   "metadata": {},
   "outputs": [
    {
     "data": {
      "text/html": [
       "<div>\n",
       "<style scoped>\n",
       "    .dataframe tbody tr th:only-of-type {\n",
       "        vertical-align: middle;\n",
       "    }\n",
       "\n",
       "    .dataframe tbody tr th {\n",
       "        vertical-align: top;\n",
       "    }\n",
       "\n",
       "    .dataframe thead th {\n",
       "        text-align: right;\n",
       "    }\n",
       "</style>\n",
       "<table border=\"1\" class=\"dataframe\">\n",
       "  <thead>\n",
       "    <tr style=\"text-align: right;\">\n",
       "      <th></th>\n",
       "      <th>Sexo</th>\n",
       "      <th>Etnia/Cor</th>\n",
       "      <th>Pessoa com deficiência?</th>\n",
       "      <th>Tipo de escola no ensino médio</th>\n",
       "      <th>Renda familiar mensal bruta</th>\n",
       "      <th>Renda mensal bruta per capita</th>\n",
       "      <th>Nome do curso</th>\n",
       "      <th>Turno</th>\n",
       "      <th>Média nota Enem</th>\n",
       "    </tr>\n",
       "  </thead>\n",
       "  <tbody>\n",
       "    <tr>\n",
       "      <th>0</th>\n",
       "      <td>M</td>\n",
       "      <td>PARDA</td>\n",
       "      <td>NÃO</td>\n",
       "      <td>SIM</td>\n",
       "      <td>4253,03</td>\n",
       "      <td>1417,68</td>\n",
       "      <td>DIREITO</td>\n",
       "      <td>NOTURNO</td>\n",
       "      <td>624,1</td>\n",
       "    </tr>\n",
       "    <tr>\n",
       "      <th>1</th>\n",
       "      <td>M</td>\n",
       "      <td>PARDA</td>\n",
       "      <td>NÃO</td>\n",
       "      <td>SIM</td>\n",
       "      <td>4253,03</td>\n",
       "      <td>1417,68</td>\n",
       "      <td>DIREITO</td>\n",
       "      <td>MATUTINO</td>\n",
       "      <td>624,1</td>\n",
       "    </tr>\n",
       "    <tr>\n",
       "      <th>2</th>\n",
       "      <td>M</td>\n",
       "      <td>BRANCA</td>\n",
       "      <td>NÃO</td>\n",
       "      <td>NÃO</td>\n",
       "      <td>NaN</td>\n",
       "      <td>1600</td>\n",
       "      <td>DIREITO</td>\n",
       "      <td>NOTURNO</td>\n",
       "      <td>701,82</td>\n",
       "    </tr>\n",
       "    <tr>\n",
       "      <th>3</th>\n",
       "      <td>M</td>\n",
       "      <td>BRANCA</td>\n",
       "      <td>NÃO</td>\n",
       "      <td>SIM</td>\n",
       "      <td>1574,07</td>\n",
       "      <td>787,04</td>\n",
       "      <td>DIREITO</td>\n",
       "      <td>MATUTINO</td>\n",
       "      <td>598,54</td>\n",
       "    </tr>\n",
       "    <tr>\n",
       "      <th>4</th>\n",
       "      <td>F</td>\n",
       "      <td>BRANCA</td>\n",
       "      <td>NÃO</td>\n",
       "      <td>SIM</td>\n",
       "      <td>2500</td>\n",
       "      <td>833,33</td>\n",
       "      <td>DIREITO</td>\n",
       "      <td>NOTURNO</td>\n",
       "      <td>512,16</td>\n",
       "    </tr>\n",
       "  </tbody>\n",
       "</table>\n",
       "</div>"
      ],
      "text/plain": [
       "  Sexo Etnia/Cor Pessoa com deficiência? Tipo de escola no ensino médio  \\\n",
       "0    M     PARDA                     NÃO                            SIM   \n",
       "1    M     PARDA                     NÃO                            SIM   \n",
       "2    M    BRANCA                     NÃO                            NÃO   \n",
       "3    M    BRANCA                     NÃO                            SIM   \n",
       "4    F    BRANCA                     NÃO                            SIM   \n",
       "\n",
       "  Renda familiar mensal bruta Renda mensal bruta per capita Nome do curso  \\\n",
       "0                     4253,03                       1417,68       DIREITO   \n",
       "1                     4253,03                       1417,68       DIREITO   \n",
       "2                         NaN                          1600       DIREITO   \n",
       "3                     1574,07                        787,04       DIREITO   \n",
       "4                        2500                        833,33       DIREITO   \n",
       "\n",
       "      Turno Média nota Enem  \n",
       "0   NOTURNO           624,1  \n",
       "1  MATUTINO           624,1  \n",
       "2   NOTURNO          701,82  \n",
       "3  MATUTINO          598,54  \n",
       "4   NOTURNO          512,16  "
      ]
     },
     "metadata": {},
     "output_type": "display_data"
    },
    {
     "data": {
      "text/html": [
       "<div>\n",
       "<style scoped>\n",
       "    .dataframe tbody tr th:only-of-type {\n",
       "        vertical-align: middle;\n",
       "    }\n",
       "\n",
       "    .dataframe tbody tr th {\n",
       "        vertical-align: top;\n",
       "    }\n",
       "\n",
       "    .dataframe thead th {\n",
       "        text-align: right;\n",
       "    }\n",
       "</style>\n",
       "<table border=\"1\" class=\"dataframe\">\n",
       "  <thead>\n",
       "    <tr style=\"text-align: right;\">\n",
       "      <th></th>\n",
       "      <th>Sexo</th>\n",
       "      <th>Etnia/Cor</th>\n",
       "      <th>Pessoa com deficiência?</th>\n",
       "      <th>Tipo de escola no ensino médio</th>\n",
       "      <th>Renda familiar mensal bruta</th>\n",
       "      <th>Renda mensal bruta per capita</th>\n",
       "      <th>Nome do curso</th>\n",
       "      <th>Turno</th>\n",
       "      <th>Média nota Enem</th>\n",
       "    </tr>\n",
       "  </thead>\n",
       "  <tbody>\n",
       "    <tr>\n",
       "      <th>237960</th>\n",
       "      <td>M</td>\n",
       "      <td>BRANCA</td>\n",
       "      <td>NÃO</td>\n",
       "      <td>SIM</td>\n",
       "      <td>1300</td>\n",
       "      <td>433,33</td>\n",
       "      <td>ENGENHARIA DA COMPUTAÇÃO</td>\n",
       "      <td>NOTURNO</td>\n",
       "      <td>570,6</td>\n",
       "    </tr>\n",
       "    <tr>\n",
       "      <th>237961</th>\n",
       "      <td>F</td>\n",
       "      <td>PRETA</td>\n",
       "      <td>NÃO</td>\n",
       "      <td>NÃO</td>\n",
       "      <td>NaN</td>\n",
       "      <td>1100</td>\n",
       "      <td>ENGENHARIA DE PRODUÇÃO</td>\n",
       "      <td>NOTURNO</td>\n",
       "      <td>500,9</td>\n",
       "    </tr>\n",
       "    <tr>\n",
       "      <th>237962</th>\n",
       "      <td>M</td>\n",
       "      <td>BRANCA</td>\n",
       "      <td>NÃO</td>\n",
       "      <td>NÃO</td>\n",
       "      <td>5922,44</td>\n",
       "      <td>2961,22</td>\n",
       "      <td>ENGENHARIA DE PRODUÇÃO</td>\n",
       "      <td>NOTURNO</td>\n",
       "      <td>640,08</td>\n",
       "    </tr>\n",
       "    <tr>\n",
       "      <th>237963</th>\n",
       "      <td>F</td>\n",
       "      <td>PARDA</td>\n",
       "      <td>NÃO</td>\n",
       "      <td>SIM</td>\n",
       "      <td>6517,59</td>\n",
       "      <td>1629,4</td>\n",
       "      <td>PSICOLOGIA</td>\n",
       "      <td>NOTURNO</td>\n",
       "      <td>535,16</td>\n",
       "    </tr>\n",
       "    <tr>\n",
       "      <th>237964</th>\n",
       "      <td>F</td>\n",
       "      <td>PARDA</td>\n",
       "      <td>NÃO</td>\n",
       "      <td>SIM</td>\n",
       "      <td>1200,5</td>\n",
       "      <td>400,17</td>\n",
       "      <td>PEDAGOGIA</td>\n",
       "      <td>NOTURNO</td>\n",
       "      <td>549,94</td>\n",
       "    </tr>\n",
       "  </tbody>\n",
       "</table>\n",
       "</div>"
      ],
      "text/plain": [
       "       Sexo Etnia/Cor Pessoa com deficiência? Tipo de escola no ensino médio  \\\n",
       "237960    M    BRANCA                     NÃO                            SIM   \n",
       "237961    F     PRETA                     NÃO                            NÃO   \n",
       "237962    M    BRANCA                     NÃO                            NÃO   \n",
       "237963    F     PARDA                     NÃO                            SIM   \n",
       "237964    F     PARDA                     NÃO                            SIM   \n",
       "\n",
       "       Renda familiar mensal bruta Renda mensal bruta per capita  \\\n",
       "237960                        1300                        433,33   \n",
       "237961                         NaN                          1100   \n",
       "237962                     5922,44                       2961,22   \n",
       "237963                     6517,59                        1629,4   \n",
       "237964                      1200,5                        400,17   \n",
       "\n",
       "                   Nome do curso    Turno Média nota Enem  \n",
       "237960  ENGENHARIA DA COMPUTAÇÃO  NOTURNO           570,6  \n",
       "237961    ENGENHARIA DE PRODUÇÃO  NOTURNO           500,9  \n",
       "237962    ENGENHARIA DE PRODUÇÃO  NOTURNO          640,08  \n",
       "237963                PSICOLOGIA  NOTURNO          535,16  \n",
       "237964                 PEDAGOGIA  NOTURNO          549,94  "
      ]
     },
     "metadata": {},
     "output_type": "display_data"
    }
   ],
   "source": [
    "display(dataset.head())\n",
    "display(dataset.tail())"
   ]
  },
  {
   "cell_type": "code",
   "execution_count": 103,
   "metadata": {},
   "outputs": [
    {
     "data": {
      "text/plain": [
       "Sexo                              object\n",
       "Etnia/Cor                         object\n",
       "Pessoa com deficiência?           object\n",
       "Tipo de escola no ensino médio    object\n",
       "Renda familiar mensal bruta       object\n",
       "Renda mensal bruta per capita     object\n",
       "Nome do curso                     object\n",
       "Turno                             object\n",
       "Média nota Enem                   object\n",
       "dtype: object"
      ]
     },
     "execution_count": 103,
     "metadata": {},
     "output_type": "execute_result"
    }
   ],
   "source": [
    "dataset.dtypes"
   ]
  },
  {
   "cell_type": "markdown",
   "metadata": {},
   "source": [
    "Os dados possuem algumas inconsitências, primeiramente podemos notar a presença de Missing Values na nossa base de dados. Além disso, temos o tipo de dado errado para as colunas *Renda familiar mensal bruta*, *Renda mensal bruta per capita* e *Média nota Enem* que estão classificadas como objeto quando deveriam estar como float, e, por fim, os dados dessas colunas mencionadas anteriormente estão separados por *virgula* e não por *ponto* como deveria ser."
   ]
  },
  {
   "cell_type": "markdown",
   "metadata": {},
   "source": [
    "# Data Cleaning"
   ]
  },
  {
   "cell_type": "code",
   "execution_count": 104,
   "metadata": {},
   "outputs": [
    {
     "name": "stderr",
     "output_type": "stream",
     "text": [
      "c:\\Users\\nrodr\\anaconda3\\envs\\fies_AED\\lib\\site-packages\\pandas\\core\\frame.py:3191: SettingWithCopyWarning: \n",
      "A value is trying to be set on a copy of a slice from a DataFrame.\n",
      "Try using .loc[row_indexer,col_indexer] = value instead\n",
      "\n",
      "See the caveats in the documentation: https://pandas.pydata.org/pandas-docs/stable/user_guide/indexing.html#returning-a-view-versus-a-copy\n",
      "  self[k1] = value[k2]\n"
     ]
    }
   ],
   "source": [
    "colunas = ['Renda familiar mensal bruta','Renda mensal bruta per capita','Média nota Enem']\n",
    "dataset[colunas] = dataset[colunas].applymap(lambda x: str(x).replace(',','.'))"
   ]
  },
  {
   "cell_type": "markdown",
   "metadata": {},
   "source": [
    "O código acima tem o objetivo de tratar a inconsistência do separador, para poder realizar as analises de forma correta devemos trocar a virgula para o ponto.\n",
    "\n",
    "Então, eu crio uma lista *colunas* e passo como argumento dessa lista as colunas que estão com essa inconsistência, após isso, utilizo a função applymap() junto com a função anônima lambda para aplicar em todas as linhas das colunas da minha lista a função replace() para trocas todas virgulas por ponto."
   ]
  },
  {
   "cell_type": "code",
   "execution_count": 105,
   "metadata": {},
   "outputs": [],
   "source": [
    "dataset = dataset.astype({\n",
    "    'Renda familiar mensal bruta': 'float',\n",
    "    'Renda mensal bruta per capita': 'float',\n",
    "    'Média nota Enem': 'float'\n",
    "})"
   ]
  },
  {
   "cell_type": "markdown",
   "metadata": {},
   "source": [
    "Agora, realizei o tratamento referente ao tipo dos dados convertendo object -> float para poder realizar as analises posteriores de forma correta"
   ]
  },
  {
   "cell_type": "code",
   "execution_count": 106,
   "metadata": {},
   "outputs": [
    {
     "data": {
      "text/html": [
       "<div>\n",
       "<style scoped>\n",
       "    .dataframe tbody tr th:only-of-type {\n",
       "        vertical-align: middle;\n",
       "    }\n",
       "\n",
       "    .dataframe tbody tr th {\n",
       "        vertical-align: top;\n",
       "    }\n",
       "\n",
       "    .dataframe thead th {\n",
       "        text-align: right;\n",
       "    }\n",
       "</style>\n",
       "<table border=\"1\" class=\"dataframe\">\n",
       "  <thead>\n",
       "    <tr style=\"text-align: right;\">\n",
       "      <th></th>\n",
       "      <th>Sexo</th>\n",
       "      <th>Etnia/Cor</th>\n",
       "      <th>Pessoa com deficiência?</th>\n",
       "      <th>Tipo de escola no ensino médio</th>\n",
       "      <th>Renda familiar mensal bruta</th>\n",
       "      <th>Renda mensal bruta per capita</th>\n",
       "      <th>Nome do curso</th>\n",
       "      <th>Turno</th>\n",
       "      <th>Média nota Enem</th>\n",
       "    </tr>\n",
       "  </thead>\n",
       "  <tbody>\n",
       "    <tr>\n",
       "      <th>0</th>\n",
       "      <td>M</td>\n",
       "      <td>PARDA</td>\n",
       "      <td>NÃO</td>\n",
       "      <td>SIM</td>\n",
       "      <td>4253.03</td>\n",
       "      <td>1417.68</td>\n",
       "      <td>DIREITO</td>\n",
       "      <td>NOTURNO</td>\n",
       "      <td>624.10</td>\n",
       "    </tr>\n",
       "    <tr>\n",
       "      <th>1</th>\n",
       "      <td>M</td>\n",
       "      <td>PARDA</td>\n",
       "      <td>NÃO</td>\n",
       "      <td>SIM</td>\n",
       "      <td>4253.03</td>\n",
       "      <td>1417.68</td>\n",
       "      <td>DIREITO</td>\n",
       "      <td>MATUTINO</td>\n",
       "      <td>624.10</td>\n",
       "    </tr>\n",
       "    <tr>\n",
       "      <th>2</th>\n",
       "      <td>M</td>\n",
       "      <td>BRANCA</td>\n",
       "      <td>NÃO</td>\n",
       "      <td>NÃO</td>\n",
       "      <td>NaN</td>\n",
       "      <td>1600.00</td>\n",
       "      <td>DIREITO</td>\n",
       "      <td>NOTURNO</td>\n",
       "      <td>701.82</td>\n",
       "    </tr>\n",
       "    <tr>\n",
       "      <th>3</th>\n",
       "      <td>M</td>\n",
       "      <td>BRANCA</td>\n",
       "      <td>NÃO</td>\n",
       "      <td>SIM</td>\n",
       "      <td>1574.07</td>\n",
       "      <td>787.04</td>\n",
       "      <td>DIREITO</td>\n",
       "      <td>MATUTINO</td>\n",
       "      <td>598.54</td>\n",
       "    </tr>\n",
       "    <tr>\n",
       "      <th>4</th>\n",
       "      <td>F</td>\n",
       "      <td>BRANCA</td>\n",
       "      <td>NÃO</td>\n",
       "      <td>SIM</td>\n",
       "      <td>2500.00</td>\n",
       "      <td>833.33</td>\n",
       "      <td>DIREITO</td>\n",
       "      <td>NOTURNO</td>\n",
       "      <td>512.16</td>\n",
       "    </tr>\n",
       "  </tbody>\n",
       "</table>\n",
       "</div>"
      ],
      "text/plain": [
       "  Sexo Etnia/Cor Pessoa com deficiência? Tipo de escola no ensino médio  \\\n",
       "0    M     PARDA                     NÃO                            SIM   \n",
       "1    M     PARDA                     NÃO                            SIM   \n",
       "2    M    BRANCA                     NÃO                            NÃO   \n",
       "3    M    BRANCA                     NÃO                            SIM   \n",
       "4    F    BRANCA                     NÃO                            SIM   \n",
       "\n",
       "   Renda familiar mensal bruta  Renda mensal bruta per capita Nome do curso  \\\n",
       "0                      4253.03                        1417.68       DIREITO   \n",
       "1                      4253.03                        1417.68       DIREITO   \n",
       "2                          NaN                        1600.00       DIREITO   \n",
       "3                      1574.07                         787.04       DIREITO   \n",
       "4                      2500.00                         833.33       DIREITO   \n",
       "\n",
       "      Turno  Média nota Enem  \n",
       "0   NOTURNO           624.10  \n",
       "1  MATUTINO           624.10  \n",
       "2   NOTURNO           701.82  \n",
       "3  MATUTINO           598.54  \n",
       "4   NOTURNO           512.16  "
      ]
     },
     "metadata": {},
     "output_type": "display_data"
    },
    {
     "data": {
      "text/html": [
       "<div>\n",
       "<style scoped>\n",
       "    .dataframe tbody tr th:only-of-type {\n",
       "        vertical-align: middle;\n",
       "    }\n",
       "\n",
       "    .dataframe tbody tr th {\n",
       "        vertical-align: top;\n",
       "    }\n",
       "\n",
       "    .dataframe thead th {\n",
       "        text-align: right;\n",
       "    }\n",
       "</style>\n",
       "<table border=\"1\" class=\"dataframe\">\n",
       "  <thead>\n",
       "    <tr style=\"text-align: right;\">\n",
       "      <th></th>\n",
       "      <th>Sexo</th>\n",
       "      <th>Etnia/Cor</th>\n",
       "      <th>Pessoa com deficiência?</th>\n",
       "      <th>Tipo de escola no ensino médio</th>\n",
       "      <th>Renda familiar mensal bruta</th>\n",
       "      <th>Renda mensal bruta per capita</th>\n",
       "      <th>Nome do curso</th>\n",
       "      <th>Turno</th>\n",
       "      <th>Média nota Enem</th>\n",
       "    </tr>\n",
       "  </thead>\n",
       "  <tbody>\n",
       "    <tr>\n",
       "      <th>237960</th>\n",
       "      <td>M</td>\n",
       "      <td>BRANCA</td>\n",
       "      <td>NÃO</td>\n",
       "      <td>SIM</td>\n",
       "      <td>1300.00</td>\n",
       "      <td>433.33</td>\n",
       "      <td>ENGENHARIA DA COMPUTAÇÃO</td>\n",
       "      <td>NOTURNO</td>\n",
       "      <td>570.60</td>\n",
       "    </tr>\n",
       "    <tr>\n",
       "      <th>237961</th>\n",
       "      <td>F</td>\n",
       "      <td>PRETA</td>\n",
       "      <td>NÃO</td>\n",
       "      <td>NÃO</td>\n",
       "      <td>NaN</td>\n",
       "      <td>1100.00</td>\n",
       "      <td>ENGENHARIA DE PRODUÇÃO</td>\n",
       "      <td>NOTURNO</td>\n",
       "      <td>500.90</td>\n",
       "    </tr>\n",
       "    <tr>\n",
       "      <th>237962</th>\n",
       "      <td>M</td>\n",
       "      <td>BRANCA</td>\n",
       "      <td>NÃO</td>\n",
       "      <td>NÃO</td>\n",
       "      <td>5922.44</td>\n",
       "      <td>2961.22</td>\n",
       "      <td>ENGENHARIA DE PRODUÇÃO</td>\n",
       "      <td>NOTURNO</td>\n",
       "      <td>640.08</td>\n",
       "    </tr>\n",
       "    <tr>\n",
       "      <th>237963</th>\n",
       "      <td>F</td>\n",
       "      <td>PARDA</td>\n",
       "      <td>NÃO</td>\n",
       "      <td>SIM</td>\n",
       "      <td>6517.59</td>\n",
       "      <td>1629.40</td>\n",
       "      <td>PSICOLOGIA</td>\n",
       "      <td>NOTURNO</td>\n",
       "      <td>535.16</td>\n",
       "    </tr>\n",
       "    <tr>\n",
       "      <th>237964</th>\n",
       "      <td>F</td>\n",
       "      <td>PARDA</td>\n",
       "      <td>NÃO</td>\n",
       "      <td>SIM</td>\n",
       "      <td>1200.50</td>\n",
       "      <td>400.17</td>\n",
       "      <td>PEDAGOGIA</td>\n",
       "      <td>NOTURNO</td>\n",
       "      <td>549.94</td>\n",
       "    </tr>\n",
       "  </tbody>\n",
       "</table>\n",
       "</div>"
      ],
      "text/plain": [
       "       Sexo Etnia/Cor Pessoa com deficiência? Tipo de escola no ensino médio  \\\n",
       "237960    M    BRANCA                     NÃO                            SIM   \n",
       "237961    F     PRETA                     NÃO                            NÃO   \n",
       "237962    M    BRANCA                     NÃO                            NÃO   \n",
       "237963    F     PARDA                     NÃO                            SIM   \n",
       "237964    F     PARDA                     NÃO                            SIM   \n",
       "\n",
       "        Renda familiar mensal bruta  Renda mensal bruta per capita  \\\n",
       "237960                      1300.00                         433.33   \n",
       "237961                          NaN                        1100.00   \n",
       "237962                      5922.44                        2961.22   \n",
       "237963                      6517.59                        1629.40   \n",
       "237964                      1200.50                         400.17   \n",
       "\n",
       "                   Nome do curso    Turno  Média nota Enem  \n",
       "237960  ENGENHARIA DA COMPUTAÇÃO  NOTURNO           570.60  \n",
       "237961    ENGENHARIA DE PRODUÇÃO  NOTURNO           500.90  \n",
       "237962    ENGENHARIA DE PRODUÇÃO  NOTURNO           640.08  \n",
       "237963                PSICOLOGIA  NOTURNO           535.16  \n",
       "237964                 PEDAGOGIA  NOTURNO           549.94  "
      ]
     },
     "metadata": {},
     "output_type": "display_data"
    },
    {
     "data": {
      "text/plain": [
       "Sexo                               object\n",
       "Etnia/Cor                          object\n",
       "Pessoa com deficiência?            object\n",
       "Tipo de escola no ensino médio     object\n",
       "Renda familiar mensal bruta       float64\n",
       "Renda mensal bruta per capita     float64\n",
       "Nome do curso                      object\n",
       "Turno                              object\n",
       "Média nota Enem                   float64\n",
       "dtype: object"
      ]
     },
     "metadata": {},
     "output_type": "display_data"
    }
   ],
   "source": [
    "display(dataset.head())\n",
    "display(dataset.tail())\n",
    "display(dataset.dtypes)"
   ]
  },
  {
   "cell_type": "markdown",
   "metadata": {},
   "source": [
    "Podemos ver que agora nossos dados estão nos formatos que eu preciso para poder realizar o resto das análises, porém ainda temos os missing values.\n",
    "\n",
    "Temos alguns tipos de missing values\n",
    "1. Missing completely values: Esses são quando os valores não dependem de nenhuma outra feature.\n",
    "2. Missing at random: São quando os valores dependem de alguma feature.\n",
    "3. Missing not at random: Esses os valores nulos tem alguma razão para estarem assim.\n",
    "\n",
    "De acordo com os tipos principais, nossos dados entram no primeiro tipo, Missing Completely Values e portanto não dependem de nenhuma feature"
   ]
  },
  {
   "cell_type": "code",
   "execution_count": 107,
   "metadata": {},
   "outputs": [
    {
     "data": {
      "text/plain": [
       "Sexo                                  0\n",
       "Etnia/Cor                             0\n",
       "Pessoa com deficiência?               0\n",
       "Tipo de escola no ensino médio        0\n",
       "Renda familiar mensal bruta       30275\n",
       "Renda mensal bruta per capita         0\n",
       "Nome do curso                         0\n",
       "Turno                                 0\n",
       "Média nota Enem                       0\n",
       "dtype: int64"
      ]
     },
     "execution_count": 107,
     "metadata": {},
     "output_type": "execute_result"
    }
   ],
   "source": [
    "dataset.isnull().sum()"
   ]
  },
  {
   "cell_type": "markdown",
   "metadata": {},
   "source": [
    "## Porcentagem de missing values"
   ]
  },
  {
   "cell_type": "code",
   "execution_count": 108,
   "metadata": {},
   "outputs": [
    {
     "data": {
      "text/plain": [
       "Sexo                              0.000000\n",
       "Etnia/Cor                         0.000000\n",
       "Pessoa com deficiência?           0.000000\n",
       "Tipo de escola no ensino médio    0.000000\n",
       "Renda familiar mensal bruta       0.127225\n",
       "Renda mensal bruta per capita     0.000000\n",
       "Nome do curso                     0.000000\n",
       "Turno                             0.000000\n",
       "Média nota Enem                   0.000000\n",
       "dtype: float64"
      ]
     },
     "execution_count": 108,
     "metadata": {},
     "output_type": "execute_result"
    }
   ],
   "source": [
    "dataset.isnull().sum()/dataset.shape[0]"
   ]
  },
  {
   "cell_type": "code",
   "execution_count": 109,
   "metadata": {},
   "outputs": [
    {
     "data": {
      "text/plain": [
       "Renda familiar mensal bruta       12.722459\n",
       "Sexo                               0.000000\n",
       "Etnia/Cor                          0.000000\n",
       "Pessoa com deficiência?            0.000000\n",
       "Tipo de escola no ensino médio     0.000000\n",
       "Renda mensal bruta per capita      0.000000\n",
       "Nome do curso                      0.000000\n",
       "Turno                              0.000000\n",
       "Média nota Enem                    0.000000\n",
       "dtype: float64"
      ]
     },
     "execution_count": 109,
     "metadata": {},
     "output_type": "execute_result"
    }
   ],
   "source": [
    "#organizando por ordem decrescente\n",
    "(dataset.isnull().sum().sort_values(ascending=False)/dataset.shape[0])*100"
   ]
  },
  {
   "cell_type": "markdown",
   "metadata": {},
   "source": [
    "Podemos notar que 12,72% aproximadamente dos meus dados na coluna *Renda familiar mensal bruta* são NaN. Para minha análise exploratória o tratamento que irei utilizar é a exclusão dos dados por entender que é uma porcentagem baixa devido a quantidade de dados que ainda irá restar."
   ]
  },
  {
   "cell_type": "code",
   "execution_count": 110,
   "metadata": {},
   "outputs": [
    {
     "data": {
      "text/plain": [
       "Sexo                              0\n",
       "Etnia/Cor                         0\n",
       "Pessoa com deficiência?           0\n",
       "Tipo de escola no ensino médio    0\n",
       "Renda familiar mensal bruta       0\n",
       "Renda mensal bruta per capita     0\n",
       "Nome do curso                     0\n",
       "Turno                             0\n",
       "Média nota Enem                   0\n",
       "dtype: int64"
      ]
     },
     "execution_count": 110,
     "metadata": {},
     "output_type": "execute_result"
    }
   ],
   "source": [
    "dataset_clean = dataset.dropna()\n",
    "dataset_clean.isna().sum()"
   ]
  },
  {
   "cell_type": "markdown",
   "metadata": {},
   "source": [
    "Foi criada uma nova variável para armazenar a base de dados que estamos analizando sem os missing values, a nova variável foi criada para não perder a referência do DataFrame."
   ]
  },
  {
   "cell_type": "markdown",
   "metadata": {},
   "source": [
    "# Análise dos dados demográficos"
   ]
  },
  {
   "cell_type": "code",
   "execution_count": 111,
   "metadata": {},
   "outputs": [
    {
     "data": {
      "text/html": [
       "<div>\n",
       "<style scoped>\n",
       "    .dataframe tbody tr th:only-of-type {\n",
       "        vertical-align: middle;\n",
       "    }\n",
       "\n",
       "    .dataframe tbody tr th {\n",
       "        vertical-align: top;\n",
       "    }\n",
       "\n",
       "    .dataframe thead th {\n",
       "        text-align: right;\n",
       "    }\n",
       "</style>\n",
       "<table border=\"1\" class=\"dataframe\">\n",
       "  <thead>\n",
       "    <tr style=\"text-align: right;\">\n",
       "      <th></th>\n",
       "      <th>Sexo</th>\n",
       "      <th>Etnia/Cor</th>\n",
       "      <th>Pessoa com deficiência?</th>\n",
       "      <th>Tipo de escola no ensino médio</th>\n",
       "      <th>Renda familiar mensal bruta</th>\n",
       "      <th>Renda mensal bruta per capita</th>\n",
       "      <th>Nome do curso</th>\n",
       "      <th>Turno</th>\n",
       "      <th>Média nota Enem</th>\n",
       "    </tr>\n",
       "  </thead>\n",
       "  <tbody>\n",
       "    <tr>\n",
       "      <th>0</th>\n",
       "      <td>M</td>\n",
       "      <td>PARDA</td>\n",
       "      <td>NÃO</td>\n",
       "      <td>SIM</td>\n",
       "      <td>4253.03</td>\n",
       "      <td>1417.68</td>\n",
       "      <td>DIREITO</td>\n",
       "      <td>NOTURNO</td>\n",
       "      <td>624.10</td>\n",
       "    </tr>\n",
       "    <tr>\n",
       "      <th>1</th>\n",
       "      <td>M</td>\n",
       "      <td>PARDA</td>\n",
       "      <td>NÃO</td>\n",
       "      <td>SIM</td>\n",
       "      <td>4253.03</td>\n",
       "      <td>1417.68</td>\n",
       "      <td>DIREITO</td>\n",
       "      <td>MATUTINO</td>\n",
       "      <td>624.10</td>\n",
       "    </tr>\n",
       "    <tr>\n",
       "      <th>3</th>\n",
       "      <td>M</td>\n",
       "      <td>BRANCA</td>\n",
       "      <td>NÃO</td>\n",
       "      <td>SIM</td>\n",
       "      <td>1574.07</td>\n",
       "      <td>787.04</td>\n",
       "      <td>DIREITO</td>\n",
       "      <td>MATUTINO</td>\n",
       "      <td>598.54</td>\n",
       "    </tr>\n",
       "    <tr>\n",
       "      <th>4</th>\n",
       "      <td>F</td>\n",
       "      <td>BRANCA</td>\n",
       "      <td>NÃO</td>\n",
       "      <td>SIM</td>\n",
       "      <td>2500.00</td>\n",
       "      <td>833.33</td>\n",
       "      <td>DIREITO</td>\n",
       "      <td>NOTURNO</td>\n",
       "      <td>512.16</td>\n",
       "    </tr>\n",
       "    <tr>\n",
       "      <th>5</th>\n",
       "      <td>F</td>\n",
       "      <td>BRANCA</td>\n",
       "      <td>NÃO</td>\n",
       "      <td>SIM</td>\n",
       "      <td>2500.00</td>\n",
       "      <td>833.33</td>\n",
       "      <td>DIREITO</td>\n",
       "      <td>MATUTINO</td>\n",
       "      <td>512.16</td>\n",
       "    </tr>\n",
       "  </tbody>\n",
       "</table>\n",
       "</div>"
      ],
      "text/plain": [
       "  Sexo Etnia/Cor Pessoa com deficiência? Tipo de escola no ensino médio  \\\n",
       "0    M     PARDA                     NÃO                            SIM   \n",
       "1    M     PARDA                     NÃO                            SIM   \n",
       "3    M    BRANCA                     NÃO                            SIM   \n",
       "4    F    BRANCA                     NÃO                            SIM   \n",
       "5    F    BRANCA                     NÃO                            SIM   \n",
       "\n",
       "   Renda familiar mensal bruta  Renda mensal bruta per capita Nome do curso  \\\n",
       "0                      4253.03                        1417.68       DIREITO   \n",
       "1                      4253.03                        1417.68       DIREITO   \n",
       "3                      1574.07                         787.04       DIREITO   \n",
       "4                      2500.00                         833.33       DIREITO   \n",
       "5                      2500.00                         833.33       DIREITO   \n",
       "\n",
       "      Turno  Média nota Enem  \n",
       "0   NOTURNO           624.10  \n",
       "1  MATUTINO           624.10  \n",
       "3  MATUTINO           598.54  \n",
       "4   NOTURNO           512.16  \n",
       "5  MATUTINO           512.16  "
      ]
     },
     "metadata": {},
     "output_type": "display_data"
    },
    {
     "data": {
      "text/html": [
       "<div>\n",
       "<style scoped>\n",
       "    .dataframe tbody tr th:only-of-type {\n",
       "        vertical-align: middle;\n",
       "    }\n",
       "\n",
       "    .dataframe tbody tr th {\n",
       "        vertical-align: top;\n",
       "    }\n",
       "\n",
       "    .dataframe thead th {\n",
       "        text-align: right;\n",
       "    }\n",
       "</style>\n",
       "<table border=\"1\" class=\"dataframe\">\n",
       "  <thead>\n",
       "    <tr style=\"text-align: right;\">\n",
       "      <th></th>\n",
       "      <th>Sexo</th>\n",
       "      <th>Etnia/Cor</th>\n",
       "      <th>Pessoa com deficiência?</th>\n",
       "      <th>Tipo de escola no ensino médio</th>\n",
       "      <th>Renda familiar mensal bruta</th>\n",
       "      <th>Renda mensal bruta per capita</th>\n",
       "      <th>Nome do curso</th>\n",
       "      <th>Turno</th>\n",
       "      <th>Média nota Enem</th>\n",
       "    </tr>\n",
       "  </thead>\n",
       "  <tbody>\n",
       "    <tr>\n",
       "      <th>237959</th>\n",
       "      <td>F</td>\n",
       "      <td>PARDA</td>\n",
       "      <td>NÃO</td>\n",
       "      <td>SIM</td>\n",
       "      <td>1150.00</td>\n",
       "      <td>383.33</td>\n",
       "      <td>ENGENHARIA DA COMPUTAÇÃO</td>\n",
       "      <td>NOTURNO</td>\n",
       "      <td>462.44</td>\n",
       "    </tr>\n",
       "    <tr>\n",
       "      <th>237960</th>\n",
       "      <td>M</td>\n",
       "      <td>BRANCA</td>\n",
       "      <td>NÃO</td>\n",
       "      <td>SIM</td>\n",
       "      <td>1300.00</td>\n",
       "      <td>433.33</td>\n",
       "      <td>ENGENHARIA DA COMPUTAÇÃO</td>\n",
       "      <td>NOTURNO</td>\n",
       "      <td>570.60</td>\n",
       "    </tr>\n",
       "    <tr>\n",
       "      <th>237962</th>\n",
       "      <td>M</td>\n",
       "      <td>BRANCA</td>\n",
       "      <td>NÃO</td>\n",
       "      <td>NÃO</td>\n",
       "      <td>5922.44</td>\n",
       "      <td>2961.22</td>\n",
       "      <td>ENGENHARIA DE PRODUÇÃO</td>\n",
       "      <td>NOTURNO</td>\n",
       "      <td>640.08</td>\n",
       "    </tr>\n",
       "    <tr>\n",
       "      <th>237963</th>\n",
       "      <td>F</td>\n",
       "      <td>PARDA</td>\n",
       "      <td>NÃO</td>\n",
       "      <td>SIM</td>\n",
       "      <td>6517.59</td>\n",
       "      <td>1629.40</td>\n",
       "      <td>PSICOLOGIA</td>\n",
       "      <td>NOTURNO</td>\n",
       "      <td>535.16</td>\n",
       "    </tr>\n",
       "    <tr>\n",
       "      <th>237964</th>\n",
       "      <td>F</td>\n",
       "      <td>PARDA</td>\n",
       "      <td>NÃO</td>\n",
       "      <td>SIM</td>\n",
       "      <td>1200.50</td>\n",
       "      <td>400.17</td>\n",
       "      <td>PEDAGOGIA</td>\n",
       "      <td>NOTURNO</td>\n",
       "      <td>549.94</td>\n",
       "    </tr>\n",
       "  </tbody>\n",
       "</table>\n",
       "</div>"
      ],
      "text/plain": [
       "       Sexo Etnia/Cor Pessoa com deficiência? Tipo de escola no ensino médio  \\\n",
       "237959    F     PARDA                     NÃO                            SIM   \n",
       "237960    M    BRANCA                     NÃO                            SIM   \n",
       "237962    M    BRANCA                     NÃO                            NÃO   \n",
       "237963    F     PARDA                     NÃO                            SIM   \n",
       "237964    F     PARDA                     NÃO                            SIM   \n",
       "\n",
       "        Renda familiar mensal bruta  Renda mensal bruta per capita  \\\n",
       "237959                      1150.00                         383.33   \n",
       "237960                      1300.00                         433.33   \n",
       "237962                      5922.44                        2961.22   \n",
       "237963                      6517.59                        1629.40   \n",
       "237964                      1200.50                         400.17   \n",
       "\n",
       "                   Nome do curso    Turno  Média nota Enem  \n",
       "237959  ENGENHARIA DA COMPUTAÇÃO  NOTURNO           462.44  \n",
       "237960  ENGENHARIA DA COMPUTAÇÃO  NOTURNO           570.60  \n",
       "237962    ENGENHARIA DE PRODUÇÃO  NOTURNO           640.08  \n",
       "237963                PSICOLOGIA  NOTURNO           535.16  \n",
       "237964                 PEDAGOGIA  NOTURNO           549.94  "
      ]
     },
     "metadata": {},
     "output_type": "display_data"
    }
   ],
   "source": [
    "display(dataset_clean.head())\n",
    "display(dataset_clean.tail())"
   ]
  },
  {
   "cell_type": "code",
   "execution_count": 112,
   "metadata": {},
   "outputs": [
    {
     "data": {
      "text/plain": [
       "Sexo                                  2\n",
       "Etnia/Cor                             5\n",
       "Pessoa com deficiência?               2\n",
       "Tipo de escola no ensino médio        3\n",
       "Renda familiar mensal bruta       25170\n",
       "Renda mensal bruta per capita     26555\n",
       "Nome do curso                       254\n",
       "Turno                                 4\n",
       "Média nota Enem                   16198\n",
       "dtype: int64"
      ]
     },
     "execution_count": 112,
     "metadata": {},
     "output_type": "execute_result"
    }
   ],
   "source": [
    "dataset_clean.nunique()"
   ]
  },
  {
   "cell_type": "markdown",
   "metadata": {},
   "source": [
    "## Dados categóricos"
   ]
  },
  {
   "cell_type": "code",
   "execution_count": 113,
   "metadata": {},
   "outputs": [
    {
     "data": {
      "text/plain": [
       "<AxesSubplot:xlabel='Sexo', ylabel='Total de inscritos'>"
      ]
     },
     "execution_count": 113,
     "metadata": {},
     "output_type": "execute_result"
    },
    {
     "data": {
      "image/png": "[encoded data removed]",
      "text/plain": [
       "<Figure size 432x288 with 1 Axes>"
      ]
     },
     "metadata": {
      "needs_background": "light"
     },
     "output_type": "display_data"
    }
   ],
   "source": [
    "sexo = dataset_clean['Sexo'].value_counts().reset_index()\n",
    "sexo.columns = ['Sexo', 'Total de inscritos']\n",
    "sns.barplot(data = sexo, x=sexo['Sexo'], y='Total de inscritos')"
   ]
  },
  {
   "cell_type": "code",
   "execution_count": 114,
   "metadata": {},
   "outputs": [
    {
     "data": {
      "text/plain": [
       "<AxesSubplot:xlabel='Etnia/Cor', ylabel='Total de inscritos'>"
      ]
     },
     "execution_count": 114,
     "metadata": {},
     "output_type": "execute_result"
    },
    {
     "data": {
      "image/png": "[encoded data removed]",
      "text/plain": [
       "<Figure size 432x288 with 1 Axes>"
      ]
     },
     "metadata": {
      "needs_background": "light"
     },
     "output_type": "display_data"
    }
   ],
   "source": [
    "etnia = dataset_clean['Etnia/Cor'].value_counts().reset_index()\n",
    "etnia.columns = ['Etnia/Cor', 'Total de inscritos']\n",
    "sns.barplot(data = etnia, x=etnia['Etnia/Cor'], y='Total de inscritos')"
   ]
  },
  {
   "cell_type": "code",
   "execution_count": 115,
   "metadata": {},
   "outputs": [
    {
     "data": {
      "text/plain": [
       "<AxesSubplot:xlabel='Pessoa com deficiência?', ylabel='Total de inscritos'>"
      ]
     },
     "execution_count": 115,
     "metadata": {},
     "output_type": "execute_result"
    },
    {
     "data": {
      "image/png": "[encoded data removed]",
      "text/plain": [
       "<Figure size 432x288 with 1 Axes>"
      ]
     },
     "metadata": {
      "needs_background": "light"
     },
     "output_type": "display_data"
    }
   ],
   "source": [
    "pessoa = dataset_clean['Pessoa com deficiência?'].value_counts().reset_index()\n",
    "pessoa.columns = ['Pessoa com deficiência?', 'Total de inscritos']\n",
    "sns.barplot(data = pessoa, x=pessoa['Pessoa com deficiência?'], y='Total de inscritos')"
   ]
  },
  {
   "cell_type": "code",
   "execution_count": 118,
   "metadata": {},
   "outputs": [
    {
     "data": {
      "image/png": "[encoded data removed]",
      "text/plain": [
       "<Figure size 432x288 with 1 Axes>"
      ]
     },
     "metadata": {
      "needs_background": "light"
     },
     "output_type": "display_data"
    }
   ],
   "source": [
    "cursos =dataset_clean['Nome do curso'].value_counts().reset_index()\n",
    "cursos.columns = ['Nome do curso', 'Total de inscritos']\n",
    "sns.barplot(data=cursos.sort_values('Total de inscritos', ascending=False)[0:5], x=cursos['Nome do curso'][0:5], y=cursos['Total de inscritos'])\n",
    "plt.xticks(rotation=45);\n"
   ]
  },
  {
   "cell_type": "markdown",
   "metadata": {},
   "source": [
    "Podemos notar que o curso de medicina é disparado a graduação mais procurada para financiamento estudantil."
   ]
  },
  {
   "cell_type": "code",
   "execution_count": 117,
   "metadata": {},
   "outputs": [
    {
     "data": {
      "text/plain": [
       "<AxesSubplot:xlabel='Turno', ylabel='Total de inscritos'>"
      ]
     },
     "execution_count": 117,
     "metadata": {},
     "output_type": "execute_result"
    },
    {
     "data": {
      "image/png": "[encoded data removed]",
      "text/plain": [
       "<Figure size 432x288 with 1 Axes>"
      ]
     },
     "metadata": {
      "needs_background": "light"
     },
     "output_type": "display_data"
    }
   ],
   "source": [
    "turno = dataset_clean['Turno'].value_counts().reset_index()\n",
    "turno.columns = ['Turno', 'Total de inscritos']\n",
    "sns.barplot(data = turno, x=turno['Turno'], y='Total de inscritos')"
   ]
  },
  {
   "cell_type": "markdown",
   "metadata": {},
   "source": [
    "## Dados numéricos"
   ]
  }
 ],
 "metadata": {
  "interpreter": {
   "hash": "fe4d2ea52e2ecf7e5fefa2761c4b3c04114ecac6c508d93b1e97cd5b221d111e"
  },
  "kernelspec": {
   "display_name": "fies_AED",
   "language": "python",
   "name": "fies_aed"
  },
  "language_info": {
   "codemirror_mode": {
    "name": "ipython",
    "version": 3
   },
   "file_extension": ".py",
   "mimetype": "text/x-python",
   "name": "python",
   "nbconvert_exporter": "python",
   "pygments_lexer": "ipython3",
   "version": "3.9.12"
  },
  "orig_nbformat": 4
 },
 "nbformat": 4,
 "nbformat_minor": 2
}
